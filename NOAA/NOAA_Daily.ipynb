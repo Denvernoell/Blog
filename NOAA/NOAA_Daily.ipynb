{
 "cells": [
  {
   "cell_type": "code",
   "execution_count": 23,
   "metadata": {},
   "outputs": [],
   "source": [
    "from my_secrets import Token\n",
    "import requests\n",
    "import pandas as pd\n",
    "from IPython.display import display"
   ]
  },
  {
   "cell_type": "code",
   "execution_count": 34,
   "metadata": {},
   "outputs": [],
   "source": [
    "def get_df(endpoint):\n",
    "\tbase_url = f\"https://www.ncdc.noaa.gov/cdo-web/api/v2\"\n",
    "\tresponse = requests.get(f\"{base_url}/{endpoint}\",headers = {\"token\":Token})\n",
    "\n",
    "\ttry:\n",
    "\t\tr = response.json()['results']\n",
    "\t\treturn pd.DataFrame(r)\n",
    "\texcept:\n",
    "\t\treturn response"
   ]
  },
  {
   "cell_type": "code",
   "execution_count": 35,
   "metadata": {},
   "outputs": [],
   "source": [
    "endpoints = ['datasets','datacategories','datatypes','locationcategories','locations','stations','data']\n",
    "endpoint_dfs = {e:get_df(e) for e in endpoints}"
   ]
  },
  {
   "cell_type": "code",
   "execution_count": 48,
   "metadata": {},
   "outputs": [
    {
     "name": "stdout",
     "output_type": "stream",
     "text": [
      "datacategories\n"
     ]
    },
    {
     "data": {
      "text/html": [
       "<div><div id=bd57e1b8-bab8-4c37-9841-de37442aea8c style=\"display:none; background-color:#9D6CFF; color:white; width:200px; height:30px; padding-left:5px; border-radius:4px; flex-direction:row; justify-content:space-around; align-items:center;\" onmouseover=\"this.style.backgroundColor='#BA9BF8'\" onmouseout=\"this.style.backgroundColor='#9D6CFF'\" onclick=\"window.commands?.execute('create-mitosheet-from-dataframe-output');\">See Full Dataframe in Mito</div> <script> if (window.commands.hasCommand('create-mitosheet-from-dataframe-output')) document.getElementById('bd57e1b8-bab8-4c37-9841-de37442aea8c').style.display = 'flex' </script> <table border=\"1\" class=\"dataframe\">\n",
       "  <thead>\n",
       "    <tr style=\"text-align: right;\">\n",
       "      <th></th>\n",
       "      <th>name</th>\n",
       "      <th>id</th>\n",
       "    </tr>\n",
       "  </thead>\n",
       "  <tbody>\n",
       "    <tr>\n",
       "      <th>0</th>\n",
       "      <td>Annual Agricultural</td>\n",
       "      <td>ANNAGR</td>\n",
       "    </tr>\n",
       "    <tr>\n",
       "      <th>1</th>\n",
       "      <td>Annual Degree Days</td>\n",
       "      <td>ANNDD</td>\n",
       "    </tr>\n",
       "    <tr>\n",
       "      <th>2</th>\n",
       "      <td>Annual Precipitation</td>\n",
       "      <td>ANNPRCP</td>\n",
       "    </tr>\n",
       "    <tr>\n",
       "      <th>3</th>\n",
       "      <td>Annual Temperature</td>\n",
       "      <td>ANNTEMP</td>\n",
       "    </tr>\n",
       "    <tr>\n",
       "      <th>4</th>\n",
       "      <td>Autumn Agricultural</td>\n",
       "      <td>AUAGR</td>\n",
       "    </tr>\n",
       "    <tr>\n",
       "      <th>...</th>\n",
       "      <td>...</td>\n",
       "      <td>...</td>\n",
       "    </tr>\n",
       "    <tr>\n",
       "      <th>20</th>\n",
       "      <td>Pressure</td>\n",
       "      <td>PRES</td>\n",
       "    </tr>\n",
       "    <tr>\n",
       "      <th>21</th>\n",
       "      <td>Reflectivity</td>\n",
       "      <td>REFLECTIVITY</td>\n",
       "    </tr>\n",
       "    <tr>\n",
       "      <th>22</th>\n",
       "      <td>Sky cover &amp; clouds</td>\n",
       "      <td>SKY</td>\n",
       "    </tr>\n",
       "    <tr>\n",
       "      <th>23</th>\n",
       "      <td>Spring Agricultural</td>\n",
       "      <td>SPAGR</td>\n",
       "    </tr>\n",
       "    <tr>\n",
       "      <th>24</th>\n",
       "      <td>Spring Degree Days</td>\n",
       "      <td>SPDD</td>\n",
       "    </tr>\n",
       "  </tbody>\n",
       "</table></div>"
      ],
      "text/plain": [
       "                     name             id\n",
       "0     Annual Agricultural         ANNAGR\n",
       "1      Annual Degree Days          ANNDD\n",
       "2    Annual Precipitation        ANNPRCP\n",
       "3      Annual Temperature        ANNTEMP\n",
       "4     Autumn Agricultural          AUAGR\n",
       "5      Autumn Degree Days           AUDD\n",
       "6    Autumn Precipitation         AUPRCP\n",
       "7      Autumn Temperature         AUTEMP\n",
       "8                Computed           COMP\n",
       "9   Computed Agricultural        COMPAGR\n",
       "10            Degree Days             DD\n",
       "11       Dual-Pol Moments  DUALPOLMOMENT\n",
       "12              Echo Tops        ECHOTOP\n",
       "13            Evaporation           EVAP\n",
       "14       Hydrometeor Type    HYDROMETEOR\n",
       "15                   Land           LAND\n",
       "16             Miscellany           MISC\n",
       "17                  Other          OTHER\n",
       "18                Overlay        OVERLAY\n",
       "19          Precipitation           PRCP\n",
       "20               Pressure           PRES\n",
       "21           Reflectivity   REFLECTIVITY\n",
       "22     Sky cover & clouds            SKY\n",
       "23    Spring Agricultural          SPAGR\n",
       "24     Spring Degree Days           SPDD"
      ]
     },
     "execution_count": 48,
     "metadata": {},
     "output_type": "execute_result"
    }
   ],
   "source": [
    "i = 1\n",
    "print(endpoints[i])\n",
    "endpoint_dfs[endpoints[i]].head(25)"
   ]
  }
 ],
 "metadata": {
  "interpreter": {
   "hash": "3067a4e9b670b2f5e73a74e9a2d9c6a2f3ee8374356055677ff1895112a0b210"
  },
  "kernelspec": {
   "display_name": "Python 3.8.3 64-bit ('base': conda)",
   "language": "python",
   "name": "python3"
  },
  "language_info": {
   "codemirror_mode": {
    "name": "ipython",
    "version": 3
   },
   "file_extension": ".py",
   "mimetype": "text/x-python",
   "name": "python",
   "nbconvert_exporter": "python",
   "pygments_lexer": "ipython3",
   "version": "3.8.3"
  },
  "orig_nbformat": 4
 },
 "nbformat": 4,
 "nbformat_minor": 2
}
