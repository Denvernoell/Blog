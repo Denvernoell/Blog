{
 "cells": [
  {
   "cell_type": "code",
   "execution_count": 1,
   "metadata": {},
   "outputs": [],
   "source": [
    "from my_secrets import Token\n",
    "import requests\n",
    "import pandas as pd\n",
    "from IPython.display import display"
   ]
  },
  {
   "cell_type": "code",
   "execution_count": 7,
   "metadata": {},
   "outputs": [],
   "source": [
    "base_url = f\"https://www.ncdc.noaa.gov/cdo-web/api/v2\"\n",
    "def get_df(endpoint):\n",
    "\toffset=0\n",
    "\tresponse = requests.get(f\"{base_url}/{endpoint}&limit=1000&offset={offset}\",headers = {\"token\":Token})\n",
    "\n",
    "\ttry:\n",
    "\t\tr = response.json()['results']\n",
    "\t\treturn pd.DataFrame(r)\n",
    "\texcept:\n",
    "\t\treturn response"
   ]
  },
  {
   "cell_type": "code",
   "execution_count": 8,
   "metadata": {},
   "outputs": [],
   "source": [
    "endpoints = [\n",
    "\t'datasets','datacategories','datatypes','locationcategories','locations','stations','data',\n",
    "\t'locations?locationcategoryid=CITY'\n",
    "\t]\n",
    "endpoint_dfs = {e:get_df(e) for e in endpoints}"
   ]
  },
  {
   "cell_type": "code",
   "execution_count": 9,
   "metadata": {},
   "outputs": [
    {
     "name": "stdout",
     "output_type": "stream",
     "text": [
      "locations?locationcategoryid=CITY\n"
     ]
    },
    {
     "data": {
      "text/html": [
       "<div><div id=1f1e60c7-5ce7-4483-81d6-0abef1dda303 style=\"display:none; background-color:#9D6CFF; color:white; width:200px; height:30px; padding-left:5px; border-radius:4px; flex-direction:row; justify-content:space-around; align-items:center;\" onmouseover=\"this.style.backgroundColor='#BA9BF8'\" onmouseout=\"this.style.backgroundColor='#9D6CFF'\" onclick=\"window.commands?.execute('create-mitosheet-from-dataframe-output');\">See Full Dataframe in Mito</div> <script> if (window.commands.hasCommand('create-mitosheet-from-dataframe-output')) document.getElementById('1f1e60c7-5ce7-4483-81d6-0abef1dda303').style.display = 'flex' </script> <table border=\"1\" class=\"dataframe\">\n",
       "  <thead>\n",
       "    <tr style=\"text-align: right;\">\n",
       "      <th></th>\n",
       "      <th>mindate</th>\n",
       "      <th>maxdate</th>\n",
       "      <th>name</th>\n",
       "      <th>datacoverage</th>\n",
       "      <th>id</th>\n",
       "    </tr>\n",
       "  </thead>\n",
       "  <tbody>\n",
       "    <tr>\n",
       "      <th>0</th>\n",
       "      <td>1983-01-01</td>\n",
       "      <td>2022-01-28</td>\n",
       "      <td>Abu Dhabi, AE</td>\n",
       "      <td>0.9977</td>\n",
       "      <td>CITY:AE000001</td>\n",
       "    </tr>\n",
       "    <tr>\n",
       "      <th>1</th>\n",
       "      <td>1944-03-01</td>\n",
       "      <td>2022-01-28</td>\n",
       "      <td>Ajman, AE</td>\n",
       "      <td>0.9992</td>\n",
       "      <td>CITY:AE000002</td>\n",
       "    </tr>\n",
       "    <tr>\n",
       "      <th>2</th>\n",
       "      <td>1944-03-01</td>\n",
       "      <td>2022-01-28</td>\n",
       "      <td>Dubai, AE</td>\n",
       "      <td>0.9992</td>\n",
       "      <td>CITY:AE000003</td>\n",
       "    </tr>\n",
       "    <tr>\n",
       "      <th>3</th>\n",
       "      <td>1944-03-01</td>\n",
       "      <td>2022-01-28</td>\n",
       "      <td>Sharjah, AE</td>\n",
       "      <td>0.9992</td>\n",
       "      <td>CITY:AE000006</td>\n",
       "    </tr>\n",
       "    <tr>\n",
       "      <th>4</th>\n",
       "      <td>1966-03-02</td>\n",
       "      <td>2021-08-30</td>\n",
       "      <td>Kabul, AF</td>\n",
       "      <td>0.9969</td>\n",
       "      <td>CITY:AF000007</td>\n",
       "    </tr>\n",
       "    <tr>\n",
       "      <th>...</th>\n",
       "      <td>...</td>\n",
       "      <td>...</td>\n",
       "      <td>...</td>\n",
       "      <td>...</td>\n",
       "      <td>...</td>\n",
       "    </tr>\n",
       "    <tr>\n",
       "      <th>995</th>\n",
       "      <td>1963-03-01</td>\n",
       "      <td>2022-01-28</td>\n",
       "      <td>Kars, TU</td>\n",
       "      <td>0.9160</td>\n",
       "      <td>CITY:TU000030</td>\n",
       "    </tr>\n",
       "    <tr>\n",
       "      <th>996</th>\n",
       "      <td>1930-01-01</td>\n",
       "      <td>2022-01-28</td>\n",
       "      <td>Kastamonu, TU</td>\n",
       "      <td>1.0000</td>\n",
       "      <td>CITY:TU000031</td>\n",
       "    </tr>\n",
       "    <tr>\n",
       "      <th>997</th>\n",
       "      <td>1963-01-01</td>\n",
       "      <td>2022-01-28</td>\n",
       "      <td>Kirsehir, TU</td>\n",
       "      <td>0.9992</td>\n",
       "      <td>CITY:TU000034</td>\n",
       "    </tr>\n",
       "    <tr>\n",
       "      <th>998</th>\n",
       "      <td>1950-01-02</td>\n",
       "      <td>2022-01-28</td>\n",
       "      <td>Konya, TU</td>\n",
       "      <td>0.9233</td>\n",
       "      <td>CITY:TU000036</td>\n",
       "    </tr>\n",
       "    <tr>\n",
       "      <th>999</th>\n",
       "      <td>2003-03-01</td>\n",
       "      <td>2022-01-28</td>\n",
       "      <td>Kutahya, TU</td>\n",
       "      <td>1.0000</td>\n",
       "      <td>CITY:TU000037</td>\n",
       "    </tr>\n",
       "  </tbody>\n",
       "</table></div>"
      ],
      "text/plain": [
       "        mindate     maxdate           name  datacoverage             id\n",
       "0    1983-01-01  2022-01-28  Abu Dhabi, AE        0.9977  CITY:AE000001\n",
       "1    1944-03-01  2022-01-28      Ajman, AE        0.9992  CITY:AE000002\n",
       "2    1944-03-01  2022-01-28      Dubai, AE        0.9992  CITY:AE000003\n",
       "3    1944-03-01  2022-01-28    Sharjah, AE        0.9992  CITY:AE000006\n",
       "4    1966-03-02  2021-08-30      Kabul, AF        0.9969  CITY:AF000007\n",
       "..          ...         ...            ...           ...            ...\n",
       "995  1963-03-01  2022-01-28       Kars, TU        0.9160  CITY:TU000030\n",
       "996  1930-01-01  2022-01-28  Kastamonu, TU        1.0000  CITY:TU000031\n",
       "997  1963-01-01  2022-01-28   Kirsehir, TU        0.9992  CITY:TU000034\n",
       "998  1950-01-02  2022-01-28      Konya, TU        0.9233  CITY:TU000036\n",
       "999  2003-03-01  2022-01-28    Kutahya, TU        1.0000  CITY:TU000037\n",
       "\n",
       "[1000 rows x 5 columns]"
      ]
     },
     "execution_count": 9,
     "metadata": {},
     "output_type": "execute_result"
    }
   ],
   "source": [
    "i = -1\n",
    "print(endpoints[i])\n",
    "endpoint_dfs[endpoints[i]]"
   ]
  },
  {
   "cell_type": "code",
   "execution_count": null,
   "metadata": {},
   "outputs": [],
   "source": []
  }
 ],
 "metadata": {
  "interpreter": {
   "hash": "3067a4e9b670b2f5e73a74e9a2d9c6a2f3ee8374356055677ff1895112a0b210"
  },
  "kernelspec": {
   "display_name": "Python 3.8.3 64-bit ('base': conda)",
   "language": "python",
   "name": "python3"
  },
  "language_info": {
   "codemirror_mode": {
    "name": "ipython",
    "version": 3
   },
   "file_extension": ".py",
   "mimetype": "text/x-python",
   "name": "python",
   "nbconvert_exporter": "python",
   "pygments_lexer": "ipython3",
   "version": "3.8.3"
  },
  "orig_nbformat": 4
 },
 "nbformat": 4,
 "nbformat_minor": 2
}
