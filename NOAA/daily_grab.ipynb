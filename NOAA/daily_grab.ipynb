{
 "cells": [
  {
   "cell_type": "code",
   "execution_count": 40,
   "metadata": {},
   "outputs": [],
   "source": [
    "import NOAA_functions as N"
   ]
  },
  {
   "cell_type": "code",
   "execution_count": 41,
   "metadata": {},
   "outputs": [],
   "source": [
    "criteria = N.get_data()\n",
    "endpoints = [criteria]\n",
    "endpoint_dfs = {e:get_df(e) for e in endpoints}"
   ]
  },
  {
   "cell_type": "code",
   "execution_count": 42,
   "metadata": {},
   "outputs": [
    {
     "name": "stdout",
     "output_type": "stream",
     "text": [
      "data?datasetid=GHCND&locationid=ZIP:93292&startdate=2020-01-01&enddate=2021-01-01&units=standard&datatypeid=PRCP\n"
     ]
    }
   ],
   "source": [
    "i = 0\n",
    "print(endpoints[i])\n",
    "df = endpoint_dfs[endpoints[i]]\n",
    "# len(df)\n",
    "df\n"
   ]
  },
  {
   "cell_type": "code",
   "execution_count": 32,
   "metadata": {},
   "outputs": [],
   "source": [
    "\n",
    "criteria = get_endpoint(\n",
    "\tlocationid='ZIP:93292',\n",
    "\tstartdate='2020-01-01',\n",
    "\tenddate='2021-01-01',\n",
    "\tunits='standard',\n",
    "\tdatasetid='GHCND',\n",
    "\tdatatypeid='PRCP',\n",
    "\t)\n",
    "endpoints = [criteria]\n",
    "endpoint_dfs = {e:get_df(e) for e in endpoints}"
   ]
  },
  {
   "cell_type": "code",
   "execution_count": 33,
   "metadata": {},
   "outputs": [
    {
     "name": "stdout",
     "output_type": "stream",
     "text": [
      "data?datasetid=GHCND&locationid=CITY:Visalia,&CA&startdate=2020-01-01&enddate=2021-01-01&units=standard&datatypeid=PRCP&limit=1000\n"
     ]
    },
    {
     "data": {
      "text/plain": [
       "<Response [200]>"
      ]
     },
     "execution_count": 33,
     "metadata": {},
     "output_type": "execute_result"
    }
   ],
   "source": [
    "i = 0\n",
    "print(endpoints[i])\n",
    "df = endpoint_dfs[endpoints[i]]\n",
    "# len(df)\n",
    "df"
   ]
  },
  {
   "cell_type": "code",
   "execution_count": null,
   "metadata": {},
   "outputs": [],
   "source": []
  },
  {
   "cell_type": "code",
   "execution_count": null,
   "metadata": {},
   "outputs": [],
   "source": []
  }
 ],
 "metadata": {
  "interpreter": {
   "hash": "3067a4e9b670b2f5e73a74e9a2d9c6a2f3ee8374356055677ff1895112a0b210"
  },
  "kernelspec": {
   "display_name": "Python 3.8.3 64-bit ('base': conda)",
   "language": "python",
   "name": "python3"
  },
  "language_info": {
   "codemirror_mode": {
    "name": "ipython",
    "version": 3
   },
   "file_extension": ".py",
   "mimetype": "text/x-python",
   "name": "python",
   "nbconvert_exporter": "python",
   "pygments_lexer": "ipython3",
   "version": "3.8.3"
  },
  "orig_nbformat": 4
 },
 "nbformat": 4,
 "nbformat_minor": 2
}
