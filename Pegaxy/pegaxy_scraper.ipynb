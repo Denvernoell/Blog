{
 "cells": [
  {
   "cell_type": "code",
   "execution_count": 1,
   "metadata": {},
   "outputs": [],
   "source": [
    "from icecream import ic\n",
    "from selenium import webdriver\n",
    "from selenium.webdriver.chrome.service import Service\n",
    "import time\n",
    "\n",
    "\n",
    "from pega_search import Store, Horse\n",
    "\n",
    "s = Service(r\"D:\\Drive\\Blog\\Dependencies\\chromedriver.exe\")\n",
    "driver = webdriver.Chrome(service=\n",
    "s)\n",
    "URL = 'https://play.pegaxy.io/marketplace?sortBy=price&sortType=ASC'\n",
    "driver.get(URL)"
   ]
  },
  {
   "cell_type": "code",
   "execution_count": null,
   "metadata": {},
   "outputs": [],
   "source": [
    "#__next > div.root > div.container > div > div > div.bx-content.default > div > div > div.list-pick > div:nth-child(1)\n",
    "\n",
    "<div class=\"item-pega\"><a href=\"/marketplace/auction/114994\"><div class=\"item-box\"><div class=\"item-cover\"><div style=\"display: block; overflow: hidden; position: relative; box-sizing: border-box; margin: 0px;\"><div style=\"display: block; box-sizing: border-box; padding-top: 50%;\"></div><img alt=\"\" src=\"https://cdn.pegaxy.io/data/pega/1643145122436\" decoding=\"async\" data-nimg=\"responsive\" class=\"item-cover-img\" style=\"position: absolute; inset: 0px; box-sizing: border-box; padding: 0px; border: none; margin: auto; display: block; width: 0px; height: 0px; min-width: 100%; max-width: 100%; min-height: 100%; max-height: 100%;\"><noscript></noscript></div></div><div class=\"item-header\"><div class=\"info-inner\"><div class=\"item-info-time\">14:51:30</div></div><div class=\"info-atts\"><div class=\"info-name\"><div class=\"item-info-title\">#91931 1006 | 🏆🌟 Inspired LIGHT 🌟🏆</div><div class=\"item-info-meta\">Hoz <span>•</span> Pacer<span>•</span> Male</div></div><div class=\"info-adds\"><div class=\"info-adds-title\">0xe3d53...F5e5a</div><div class=\"info-property\"><div class=\"property-title\"><div class=\"property-coat\"><div class=\"item-coat\" style=\"background-color: rgb(255, 224, 224);\"></div><div class=\"item-coat\" style=\"background-color: rgb(181, 82, 92);\"></div><div class=\"item-coat\" style=\"background-color: rgb(255, 224, 224);\"></div></div></div></div></div></div></div><div class=\"item-class class-pega breed\">3</div><div class=\"item-badge\"><div style=\"overflow: hidden; box-sizing: border-box; display: inline-block; position: relative; width: 16px; height: 16px;\"><img alt=\"\" src=\"/images/ic_item_badge.png\" decoding=\"async\" data-nimg=\"fixed\" class=\"item-img\" style=\"position: absolute; inset: 0px; box-sizing: border-box; padding: 0px; border: none; margin: auto; display: block; width: 0px; height: 0px; min-width: 100%; max-width: 100%; min-height: 100%; max-height: 100%;\"><noscript></noscript></div></div></div></a><div class=\"info-action\"><div class=\"action-group\"><div class=\"item-link\"><div class=\"button-game primary\" style=\"height: 32px;\"><div class=\"btn-position button-game-left\" style=\"width: 16px; height: 32px;\"></div><div class=\"btn-position button-game-content\" style=\"height: 32px; padding-right: 16px; padding-left: 16px;\"><div class=\"content-name\"><span class=\"content-name-sub\">Current Bid:</span><span class=\"content-name-title\" style=\"font-size: 20px;\">1,277</span></div><div class=\"button-game-icon i-right\"><div style=\"overflow: hidden; box-sizing: border-box; display: inline-block; position: relative; width: 25px; height: 25px;\"><img alt=\"\" src=\"/images/coin/USDT.png\" decoding=\"async\" data-nimg=\"fixed\" class=\"game-icon-img\" style=\"position: absolute; inset: 0px; box-sizing: border-box; padding: 0px; border: none; margin: auto; display: block; width: 0px; height: 0px; min-width: 100%; max-width: 100%; min-height: 100%; max-height: 100%;\"><noscript></noscript></div></div></div><div class=\"btn-position button-game-right\" style=\"width: 16px; height: 32px;\"></div></div></div></div></div></div>\n",
    "\n",
    "<div class=\"item-pega\"><a href=\"/marketplace/auction/114994\"><div class=\"item-box\"><div class=\"item-cover\"><div style=\"display: block; overflow: hidden; position: relative; box-sizing: border-box; margin: 0px;\"><div style=\"display: block; box-sizing: border-box; padding-top: 50%;\"></div><img alt=\"\" src=\"https://cdn.pegaxy.io/data/pega/1643145122436\" decoding=\"async\" data-nimg=\"responsive\" class=\"item-cover-img\" style=\"position: absolute; inset: 0px; box-sizing: border-box; padding: 0px; border: none; margin: auto; display: block; width: 0px; height: 0px; min-width: 100%; max-width: 100%; min-height: 100%; max-height: 100%;\"><noscript></noscript></div></div><div class=\"item-header\"><div class=\"info-inner\"><div class=\"item-info-time\">14:51:20</div></div><div class=\"info-atts\"><div class=\"info-name\"><div class=\"item-info-title\">#91931 1006 | 🏆🌟 Inspired LIGHT 🌟🏆</div><div class=\"item-info-meta\">Hoz <span>•</span> Pacer<span>•</span> Male</div></div><div class=\"info-adds\"><div class=\"info-adds-title\">0xe3d53...F5e5a</div><div class=\"info-property\"><div class=\"property-title\"><div class=\"property-coat\"><div class=\"item-coat\" style=\"background-color: rgb(255, 224, 224);\"></div><div class=\"item-coat\" style=\"background-color: rgb(181, 82, 92);\"></div><div class=\"item-coat\" style=\"background-color: rgb(255, 224, 224);\"></div></div></div></div></div></div></div><div class=\"item-class class-pega breed\">3</div><div class=\"item-badge\"><div style=\"overflow: hidden; box-sizing: border-box; display: inline-block; position: relative; width: 16px; height: 16px;\"><img alt=\"\" src=\"/images/ic_item_badge.png\" decoding=\"async\" data-nimg=\"fixed\" class=\"item-img\" style=\"position: absolute; inset: 0px; box-sizing: border-box; padding: 0px; border: none; margin: auto; display: block; width: 0px; height: 0px; min-width: 100%; max-width: 100%; min-height: 100%; max-height: 100%;\"><noscript></noscript></div></div></div></a><div class=\"info-action\"><div class=\"action-group\"><div class=\"item-link\"><div class=\"button-game primary\" style=\"height: 32px;\"><div class=\"btn-position button-game-left\" style=\"width: 16px; height: 32px;\"></div><div class=\"btn-position button-game-content\" style=\"height: 32px; padding-right: 16px; padding-left: 16px;\"><div class=\"content-name\"><span class=\"content-name-sub\">Current Bid:</span><span class=\"content-name-title\" style=\"font-size: 20px;\">1,277</span></div><div class=\"button-game-icon i-right\"><div style=\"overflow: hidden; box-sizing: border-box; display: inline-block; position: relative; width: 25px; height: 25px;\"><img alt=\"\" src=\"/images/coin/USDT.png\" decoding=\"async\" data-nimg=\"fixed\" class=\"game-icon-img\" style=\"position: absolute; inset: 0px; box-sizing: border-box; padding: 0px; border: none; margin: auto; display: block; width: 0px; height: 0px; min-width: 100%; max-width: 100%; min-height: 100%; max-height: 100%;\"><noscript></noscript></div></div></div><div class=\"btn-position button-game-right\" style=\"width: 16px; height: 32px;\"></div></div></div></div></div></div>\n",
    "\n",
    "//*[@id=\"__next\"]/div[1]/div[2]/div/div/div[2]/div/div/div[2]/div[1]\n",
    "/html/body/div/div[1]/div[2]/div/div/div[2]/div/div/div[2]/div[1]\n"
   ]
  },
  {
   "cell_type": "code",
   "execution_count": 15,
   "metadata": {},
   "outputs": [
    {
     "data": {
      "text/plain": [
       "'https://play.pegaxy.io/marketplace/auction/114994'"
      ]
     },
     "execution_count": 15,
     "metadata": {},
     "output_type": "execute_result"
    }
   ],
   "source": [
    "driver.find_elements('class name' , 'item-pega')[0].text\n",
    "driver.find_elements('class name' , 'item-pega')[0].get_attribute('href')\n",
    "# driver.find_elements('class name' , 'item-pega')[0].find_element()\n",
    "driver.find_elements('tag name','a')[0].get_attribute('href')\n",
    "# driver.find_elements('xpath' , '/html/body/div/div[1]/div[2]/div/div/div[2]/div/div/div[2]/div[1]')[0].get_attribute('href')\n"
   ]
  },
  {
   "cell_type": "code",
   "execution_count": 71,
   "metadata": {},
   "outputs": [
    {
     "ename": "ElementClickInterceptedException",
     "evalue": "Message: element click intercepted: Element <div class=\"item-cover\">...</div> is not clickable at point (177, 334). Other element would receive the click: <div class=\"item-box\">...</div>\n  (Session info: chrome=97.0.4692.99)\nStacktrace:\nBacktrace:\n\tOrdinal0 [0x00B6FDC3+2555331]\n\tOrdinal0 [0x00B077F1+2127857]\n\tOrdinal0 [0x00A02E08+1060360]\n\tOrdinal0 [0x00A348CF+1263823]\n\tOrdinal0 [0x00A32B10+1256208]\n\tOrdinal0 [0x00A3076B+1247083]\n\tOrdinal0 [0x00A2F559+1242457]\n\tOrdinal0 [0x00A24FB3+1200051]\n\tOrdinal0 [0x00A47B0C+1342220]\n\tOrdinal0 [0x00A24984+1198468]\n\tOrdinal0 [0x00A47C14+1342484]\n\tOrdinal0 [0x00A575FA+1406458]\n\tOrdinal0 [0x00A47976+1341814]\n\tOrdinal0 [0x00A236B6+1193654]\n\tOrdinal0 [0x00A24546+1197382]\n\tGetHandleVerifier [0x00D09622+1619522]\n\tGetHandleVerifier [0x00DB882C+2336844]\n\tGetHandleVerifier [0x00C023E1+541697]\n\tGetHandleVerifier [0x00C01443+537699]\n\tOrdinal0 [0x00B0D18E+2150798]\n\tOrdinal0 [0x00B11518+2168088]\n\tOrdinal0 [0x00B11660+2168416]\n\tOrdinal0 [0x00B1B330+2208560]\n\tBaseThreadInitThunk [0x7572FA29+25]\n\tRtlGetAppContainerNamedObjectPath [0x77847A9E+286]\n\tRtlGetAppContainerNamedObjectPath [0x77847A6E+238]\n",
     "output_type": "error",
     "traceback": [
      "\u001b[1;31m---------------------------------------------------------------------------\u001b[0m",
      "\u001b[1;31mElementClickInterceptedException\u001b[0m          Traceback (most recent call last)",
      "Input \u001b[1;32mIn [71]\u001b[0m, in \u001b[0;36m<module>\u001b[1;34m\u001b[0m\n\u001b[0;32m      1\u001b[0m i\u001b[38;5;241m=\u001b[39m\u001b[38;5;241m0\u001b[39m\n\u001b[0;32m      2\u001b[0m \u001b[38;5;66;03m# driver.find_elements('class name' , 'item-pega')[i].find_elements(\"partial link text\",'marketplace')\u001b[39;00m\n\u001b[0;32m      3\u001b[0m \u001b[38;5;66;03m# driver.find_elements('class name' , 'item-pega')[i].get_attribute()\u001b[39;00m\n\u001b[0;32m      4\u001b[0m \u001b[38;5;66;03m# driver.find_elements('class name' , 'item-pega')[i].get_property()\u001b[39;00m\n\u001b[1;32m----> 5\u001b[0m \u001b[43mdriver\u001b[49m\u001b[38;5;241;43m.\u001b[39;49m\u001b[43mfind_elements\u001b[49m\u001b[43m(\u001b[49m\u001b[38;5;124;43m'\u001b[39;49m\u001b[38;5;124;43mclass name\u001b[39;49m\u001b[38;5;124;43m'\u001b[39;49m\u001b[43m \u001b[49m\u001b[43m,\u001b[49m\u001b[43m \u001b[49m\u001b[38;5;124;43m'\u001b[39;49m\u001b[38;5;124;43mitem-cover\u001b[39;49m\u001b[38;5;124;43m'\u001b[39;49m\u001b[43m)\u001b[49m\u001b[43m[\u001b[49m\u001b[43mi\u001b[49m\u001b[43m]\u001b[49m\u001b[38;5;241;43m.\u001b[39;49m\u001b[43mclick\u001b[49m\u001b[43m(\u001b[49m\u001b[43m)\u001b[49m\n",
      "File \u001b[1;32m~\\anaconda3\\envs\\scraping\\lib\\site-packages\\selenium\\webdriver\\remote\\webelement.py:81\u001b[0m, in \u001b[0;36mWebElement.click\u001b[1;34m(self)\u001b[0m\n\u001b[0;32m     79\u001b[0m \u001b[38;5;28;01mdef\u001b[39;00m \u001b[38;5;21mclick\u001b[39m(\u001b[38;5;28mself\u001b[39m) \u001b[38;5;241m-\u001b[39m\u001b[38;5;241m>\u001b[39m \u001b[38;5;28;01mNone\u001b[39;00m:\n\u001b[0;32m     80\u001b[0m     \u001b[38;5;124;03m\"\"\"Clicks the element.\"\"\"\u001b[39;00m\n\u001b[1;32m---> 81\u001b[0m     \u001b[38;5;28;43mself\u001b[39;49m\u001b[38;5;241;43m.\u001b[39;49m\u001b[43m_execute\u001b[49m\u001b[43m(\u001b[49m\u001b[43mCommand\u001b[49m\u001b[38;5;241;43m.\u001b[39;49m\u001b[43mCLICK_ELEMENT\u001b[49m\u001b[43m)\u001b[49m\n",
      "File \u001b[1;32m~\\anaconda3\\envs\\scraping\\lib\\site-packages\\selenium\\webdriver\\remote\\webelement.py:710\u001b[0m, in \u001b[0;36mWebElement._execute\u001b[1;34m(self, command, params)\u001b[0m\n\u001b[0;32m    708\u001b[0m     params \u001b[38;5;241m=\u001b[39m {}\n\u001b[0;32m    709\u001b[0m params[\u001b[38;5;124m'\u001b[39m\u001b[38;5;124mid\u001b[39m\u001b[38;5;124m'\u001b[39m] \u001b[38;5;241m=\u001b[39m \u001b[38;5;28mself\u001b[39m\u001b[38;5;241m.\u001b[39m_id\n\u001b[1;32m--> 710\u001b[0m \u001b[38;5;28;01mreturn\u001b[39;00m \u001b[38;5;28;43mself\u001b[39;49m\u001b[38;5;241;43m.\u001b[39;49m\u001b[43m_parent\u001b[49m\u001b[38;5;241;43m.\u001b[39;49m\u001b[43mexecute\u001b[49m\u001b[43m(\u001b[49m\u001b[43mcommand\u001b[49m\u001b[43m,\u001b[49m\u001b[43m \u001b[49m\u001b[43mparams\u001b[49m\u001b[43m)\u001b[49m\n",
      "File \u001b[1;32m~\\anaconda3\\envs\\scraping\\lib\\site-packages\\selenium\\webdriver\\remote\\webdriver.py:424\u001b[0m, in \u001b[0;36mWebDriver.execute\u001b[1;34m(self, driver_command, params)\u001b[0m\n\u001b[0;32m    422\u001b[0m response \u001b[38;5;241m=\u001b[39m \u001b[38;5;28mself\u001b[39m\u001b[38;5;241m.\u001b[39mcommand_executor\u001b[38;5;241m.\u001b[39mexecute(driver_command, params)\n\u001b[0;32m    423\u001b[0m \u001b[38;5;28;01mif\u001b[39;00m response:\n\u001b[1;32m--> 424\u001b[0m     \u001b[38;5;28;43mself\u001b[39;49m\u001b[38;5;241;43m.\u001b[39;49m\u001b[43merror_handler\u001b[49m\u001b[38;5;241;43m.\u001b[39;49m\u001b[43mcheck_response\u001b[49m\u001b[43m(\u001b[49m\u001b[43mresponse\u001b[49m\u001b[43m)\u001b[49m\n\u001b[0;32m    425\u001b[0m     response[\u001b[38;5;124m'\u001b[39m\u001b[38;5;124mvalue\u001b[39m\u001b[38;5;124m'\u001b[39m] \u001b[38;5;241m=\u001b[39m \u001b[38;5;28mself\u001b[39m\u001b[38;5;241m.\u001b[39m_unwrap_value(\n\u001b[0;32m    426\u001b[0m         response\u001b[38;5;241m.\u001b[39mget(\u001b[38;5;124m'\u001b[39m\u001b[38;5;124mvalue\u001b[39m\u001b[38;5;124m'\u001b[39m, \u001b[38;5;28;01mNone\u001b[39;00m))\n\u001b[0;32m    427\u001b[0m     \u001b[38;5;28;01mreturn\u001b[39;00m response\n",
      "File \u001b[1;32m~\\anaconda3\\envs\\scraping\\lib\\site-packages\\selenium\\webdriver\\remote\\errorhandler.py:247\u001b[0m, in \u001b[0;36mErrorHandler.check_response\u001b[1;34m(self, response)\u001b[0m\n\u001b[0;32m    245\u001b[0m         alert_text \u001b[38;5;241m=\u001b[39m value[\u001b[38;5;124m'\u001b[39m\u001b[38;5;124malert\u001b[39m\u001b[38;5;124m'\u001b[39m]\u001b[38;5;241m.\u001b[39mget(\u001b[38;5;124m'\u001b[39m\u001b[38;5;124mtext\u001b[39m\u001b[38;5;124m'\u001b[39m)\n\u001b[0;32m    246\u001b[0m     \u001b[38;5;28;01mraise\u001b[39;00m exception_class(message, screen, stacktrace, alert_text)  \u001b[38;5;66;03m# type: ignore[call-arg]  # mypy is not smart enough here\u001b[39;00m\n\u001b[1;32m--> 247\u001b[0m \u001b[38;5;28;01mraise\u001b[39;00m exception_class(message, screen, stacktrace)\n",
      "\u001b[1;31mElementClickInterceptedException\u001b[0m: Message: element click intercepted: Element <div class=\"item-cover\">...</div> is not clickable at point (177, 334). Other element would receive the click: <div class=\"item-box\">...</div>\n  (Session info: chrome=97.0.4692.99)\nStacktrace:\nBacktrace:\n\tOrdinal0 [0x00B6FDC3+2555331]\n\tOrdinal0 [0x00B077F1+2127857]\n\tOrdinal0 [0x00A02E08+1060360]\n\tOrdinal0 [0x00A348CF+1263823]\n\tOrdinal0 [0x00A32B10+1256208]\n\tOrdinal0 [0x00A3076B+1247083]\n\tOrdinal0 [0x00A2F559+1242457]\n\tOrdinal0 [0x00A24FB3+1200051]\n\tOrdinal0 [0x00A47B0C+1342220]\n\tOrdinal0 [0x00A24984+1198468]\n\tOrdinal0 [0x00A47C14+1342484]\n\tOrdinal0 [0x00A575FA+1406458]\n\tOrdinal0 [0x00A47976+1341814]\n\tOrdinal0 [0x00A236B6+1193654]\n\tOrdinal0 [0x00A24546+1197382]\n\tGetHandleVerifier [0x00D09622+1619522]\n\tGetHandleVerifier [0x00DB882C+2336844]\n\tGetHandleVerifier [0x00C023E1+541697]\n\tGetHandleVerifier [0x00C01443+537699]\n\tOrdinal0 [0x00B0D18E+2150798]\n\tOrdinal0 [0x00B11518+2168088]\n\tOrdinal0 [0x00B11660+2168416]\n\tOrdinal0 [0x00B1B330+2208560]\n\tBaseThreadInitThunk [0x7572FA29+25]\n\tRtlGetAppContainerNamedObjectPath [0x77847A9E+286]\n\tRtlGetAppContainerNamedObjectPath [0x77847A6E+238]\n"
     ]
    }
   ],
   "source": [
    "i=0\n",
    "# driver.find_elements('class name' , 'item-pega')[i].find_elements(\"partial link text\",'marketplace')\n",
    "# driver.find_elements('class name' , 'item-pega')[i].get_attribute()\n",
    "# driver.find_elements('class name' , 'item-pega')[i].get_property()\n",
    "driver.find_elements('class name' , 'item-cover')[i]\n",
    "# .get_attribute('href')\n",
    "\n",
    "\n",
    "# driver.find_elements('class name' , 'item-pega')[i].find_elements(\"href\")\n",
    "# driver.find_elements(\"a\", 'market')\n",
    "# driver.find_element_by_link_text('marketplace')"
   ]
  },
  {
   "cell_type": "code",
   "execution_count": null,
   "metadata": {},
   "outputs": [],
   "source": [
    "<div class=\"item-cover\"><div style=\"display: block; overflow: hidden; position: relative; box-sizing: border-box; margin: 0px;\"><div style=\"display: block; box-sizing: border-box; padding-top: 50%;\"></div><img alt=\"\" src=\"https://cdn.pegaxy.io/data/pega/1642056032344\" decoding=\"async\" data-nimg=\"responsive\" class=\"item-cover-img\" style=\"position: absolute; inset: 0px; box-sizing: border-box; padding: 0px; border: none; margin: auto; display: block; width: 0px; height: 0px; min-width: 100%; max-width: 100%; min-height: 100%; max-height: 100%;\"><noscript></noscript></div></div>"
   ]
  },
  {
   "cell_type": "code",
   "execution_count": 48,
   "metadata": {},
   "outputs": [
    {
     "name": "stderr",
     "output_type": "stream",
     "text": [
      "C:\\Users\\denve\\AppData\\Local\\Temp\\ipykernel_29500\\2956031110.py:4: DeprecationWarning: find_elements_by_* commands are deprecated. Please use find_elements() instead\n",
      "  for link in driver.find_elements_by_tag_name('a'):\n"
     ]
    },
    {
     "data": {
      "text/plain": [
       "[]"
      ]
     },
     "execution_count": 48,
     "metadata": {},
     "output_type": "execute_result"
    }
   ],
   "source": [
    "# find links with marketplace in the text\n",
    "def get_marketplace_links(driver):\n",
    "    links = []\n",
    "    for link in driver.find_elements_by_tag_name('a'):\n",
    "\t    if 'marketplace' in link.text:\n",
    "\t\t    links.append(link)\n",
    "    return links\n",
    "get_marketplace_links(driver)"
   ]
  },
  {
   "cell_type": "code",
   "execution_count": null,
   "metadata": {},
   "outputs": [],
   "source": []
  },
  {
   "cell_type": "code",
   "execution_count": null,
   "metadata": {},
   "outputs": [],
   "source": [
    "<div class=\"item-pega\"><a href=\"/marketplace/auction/103151\"><div class=\"item-box\"><div class=\"item-cover\"><div style=\"display: block; overflow: hidden; position: relative; box-sizing: border-box; margin: 0px;\"><div style=\"display: block; box-sizing: border-box; padding-top: 50%;\"></div><img alt=\"\" src=\"/images/pega/ponypega.webp\" decoding=\"async\" data-nimg=\"responsive\" class=\"item-cover-img\" style=\"position: absolute; inset: 0px; box-sizing: border-box; padding: 0px; border: none; margin: auto; display: block; width: 0px; height: 0px; min-width: 100%; max-width: 100%; min-height: 100%; max-height: 100%;\"><noscript></noscript></div></div><div class=\"item-header\"><div class=\"info-inner\"><div class=\"item-info-time\">09:22:02</div></div><div class=\"info-atts\"><div class=\"info-name\"><div class=\"item-info-title\">#103004 TRF_12</div><div class=\"item-info-meta\">Campona <span>•</span> Pacer<span>•</span> Male</div></div><div class=\"info-adds\"><div class=\"info-adds-title\">0x98218...3239a</div><div class=\"info-property\"><div class=\"property-title\"><div class=\"property-coat\"><div class=\"item-coat\" style=\"background-color: rgb(247, 222, 28);\"></div><div class=\"item-coat\" style=\"background-color: rgb(112, 99, 129);\"></div><div class=\"item-coat\" style=\"background-color: rgb(255, 215, 57);\"></div></div></div></div></div></div></div><div class=\"item-class class-pega breed\">0</div><div class=\"item-badge\"><div style=\"overflow: hidden; box-sizing: border-box; display: inline-block; position: relative; width: 16px; height: 16px;\"><img alt=\"\" src=\"/images/ic_item_badge.png\" decoding=\"async\" data-nimg=\"fixed\" class=\"item-img\" style=\"position: absolute; inset: 0px; box-sizing: border-box; padding: 0px; border: none; margin: auto; display: block; width: 0px; height: 0px; min-width: 100%; max-width: 100%; min-height: 100%; max-height: 100%;\"><noscript></noscript></div></div></div></a><div class=\"info-action\"><div class=\"action-group\"><div class=\"item-link\"><div class=\"button-game primary\" style=\"height: 32px;\"><div class=\"btn-position button-game-left\" style=\"width: 16px; height: 32px;\"></div><div class=\"btn-position button-game-content\" style=\"height: 32px; padding-right: 16px; padding-left: 16px;\"><div class=\"content-name\"><span class=\"content-name-sub\">Current Bid:</span><span class=\"content-name-title\" style=\"font-size: 20px;\">1,030</span></div><div class=\"button-game-icon i-right\"><div style=\"overflow: hidden; box-sizing: border-box; display: inline-block; position: relative; width: 25px; height: 25px;\"><img alt=\"\" src=\"/images/coin/USDT.png\" decoding=\"async\" data-nimg=\"fixed\" class=\"game-icon-img\" style=\"position: absolute; inset: 0px; box-sizing: border-box; padding: 0px; border: none; margin: auto; display: block; width: 0px; height: 0px; min-width: 100%; max-width: 100%; min-height: 100%; max-height: 100%;\"><noscript></noscript></div></div></div><div class=\"btn-position button-game-right\" style=\"width: 16px; height: 32px;\"></div></div></div></div></div></div>\n",
    "<div class=\"item-pega\"><a href=\"/marketplace/auction/103151\"><div class=\"item-box\"><div class=\"item-cover\"><div style=\"display: block; overflow: hidden; position: relative; box-sizing: border-box; margin: 0px;\"><div style=\"display: block; box-sizing: border-box; padding-top: 50%;\"></div><img alt=\"\" src=\"/images/pega/ponypega.webp\" decoding=\"async\" data-nimg=\"responsive\" class=\"item-cover-img\" style=\"position: absolute; inset: 0px; box-sizing: border-box; padding: 0px; border: none; margin: auto; display: block; width: 0px; height: 0px; min-width: 100%; max-width: 100%; min-height: 100%; max-height: 100%;\"><noscript></noscript></div></div><div class=\"item-header\"><div class=\"info-inner\"><div class=\"item-info-time\">07:37:48</div></div><div class=\"info-atts\"><div class=\"info-name\"><div class=\"item-info-title\">#103004 TRF_12</div><div class=\"item-info-meta\">Campona <span>•</span> Pacer<span>•</span> Male</div></div><div class=\"info-adds\"><div class=\"info-adds-title\">0x98218...3239a</div><div class=\"info-property\"><div class=\"property-title\"><div class=\"property-coat\"><div class=\"item-coat\" style=\"background-color: rgb(247, 222, 28);\"></div><div class=\"item-coat\" style=\"background-color: rgb(112, 99, 129);\"></div><div class=\"item-coat\" style=\"background-color: rgb(255, 215, 57);\"></div></div></div></div></div></div></div><div class=\"item-class class-pega breed\">0</div><div class=\"item-badge\"><div style=\"overflow: hidden; box-sizing: border-box; display: inline-block; position: relative; width: 16px; height: 16px;\"><img alt=\"\" src=\"/images/ic_item_badge.png\" decoding=\"async\" data-nimg=\"fixed\" class=\"item-img\" style=\"position: absolute; inset: 0px; box-sizing: border-box; padding: 0px; border: none; margin: auto; display: block; width: 0px; height: 0px; min-width: 100%; max-width: 100%; min-height: 100%; max-height: 100%;\"><noscript></noscript></div></div></div></a><div class=\"info-action\"><div class=\"action-group\"><div class=\"item-link\"><div class=\"button-game primary\" style=\"height: 32px;\"><div class=\"btn-position button-game-left\" style=\"width: 16px; height: 32px;\"></div><div class=\"btn-position button-game-content\" style=\"height: 32px; padding-right: 16px; padding-left: 16px;\"><div class=\"content-name\"><span class=\"content-name-sub\">Current Bid:</span><span class=\"content-name-title\" style=\"font-size: 20px;\">1,035</span></div><div class=\"button-game-icon i-right\"><div style=\"overflow: hidden; box-sizing: border-box; display: inline-block; position: relative; width: 25px; height: 25px;\"><img alt=\"\" src=\"/images/coin/USDT.png\" decoding=\"async\" data-nimg=\"fixed\" class=\"game-icon-img\" style=\"position: absolute; inset: 0px; box-sizing: border-box; padding: 0px; border: none; margin: auto; display: block; width: 0px; height: 0px; min-width: 100%; max-width: 100%; min-height: 100%; max-height: 100%;\"><noscript></noscript></div></div></div><div class=\"btn-position button-game-right\" style=\"width: 16px; height: 32px;\"></div></div></div></div></div></div>"
   ]
  },
  {
   "cell_type": "code",
   "execution_count": 57,
   "metadata": {},
   "outputs": [],
   "source": [
    "class Store:\n",
    "\tdef __init__(self,driver):\n",
    "\t\tself.driver = driver\n",
    "\t\tself.num_horses = len(driver.find_elements('class name' , 'content-name-title'))\n",
    "\t\tself.horses = [Horse(driver,i) for i in range(self.num_horses-1) if type(Horse(driver,i).price) == int]\n",
    "\n",
    "class Horse:\n",
    "\tdef __init__(self,driver,i):\n",
    "\t\tself.driver = driver\n",
    "\t\tprice = (driver.find_elements('class name' , 'content-name-title')[i].text)\n",
    "\t\tname = (driver.find_elements('class name' , 'item-info-title')[i].text)\n",
    "\t\trarity, breed_type, gender = (driver.find_elements('class name' , 'item-info-meta')[i].text).replace(' ','').split('•')\n",
    "\t\t\n",
    "\t\ttry:\n",
    "\t\t\tself.price = int(price.replace(',', ''))\n",
    "\t\texcept:\n",
    "\t\t\tself.price = price\n",
    "\t\tself.name = name\n",
    "\t\tself.rarity = rarity\n",
    "\t\tself.breed_type = breed_type\n",
    "\t\tself.gender = gender"
   ]
  },
  {
   "cell_type": "code",
   "execution_count": 60,
   "metadata": {},
   "outputs": [
    {
     "data": {
      "text/plain": [
       "'#103004 TRF_12'"
      ]
     },
     "execution_count": 60,
     "metadata": {},
     "output_type": "execute_result"
    }
   ],
   "source": [
    "S = Store(driver)\n",
    "S.horses[0].name"
   ]
  },
  {
   "cell_type": "code",
   "execution_count": 6,
   "metadata": {},
   "outputs": [
    {
     "name": "stdout",
     "output_type": "stream",
     "text": [
      "Buy at 997\n",
      "Buy at 997\n",
      "Buy at 997\n",
      "Buy at 997\n"
     ]
    },
    {
     "ename": "WebDriverException",
     "evalue": "Message: chrome not reachable\n  (Session info: chrome=97.0.4692.99)\nStacktrace:\nBacktrace:\n\tOrdinal0 [0x00B6FDC3+2555331]\n\tOrdinal0 [0x00B077F1+2127857]\n\tOrdinal0 [0x00A02CD0+1060048]\n\tOrdinal0 [0x009F7BE2+1014754]\n\tOrdinal0 [0x009F83E8+1016808]\n\tOrdinal0 [0x009F9C02+1022978]\n\tOrdinal0 [0x009F3AB9+998073]\n\tOrdinal0 [0x00A04040+1065024]\n\tOrdinal0 [0x00A56DC2+1404354]\n\tOrdinal0 [0x00A47976+1341814]\n\tOrdinal0 [0x00A236B6+1193654]\n\tOrdinal0 [0x00A24546+1197382]\n\tGetHandleVerifier [0x00D09622+1619522]\n\tGetHandleVerifier [0x00DB882C+2336844]\n\tGetHandleVerifier [0x00C023E1+541697]\n\tGetHandleVerifier [0x00C01443+537699]\n\tOrdinal0 [0x00B0D18E+2150798]\n\tOrdinal0 [0x00B11518+2168088]\n\tOrdinal0 [0x00B11660+2168416]\n\tOrdinal0 [0x00B1B330+2208560]\n\tBaseThreadInitThunk [0x7572FA29+25]\n\tRtlGetAppContainerNamedObjectPath [0x77847A9E+286]\n\tRtlGetAppContainerNamedObjectPath [0x77847A6E+238]\n",
     "output_type": "error",
     "traceback": [
      "\u001b[1;31m---------------------------------------------------------------------------\u001b[0m",
      "\u001b[1;31mWebDriverException\u001b[0m                        Traceback (most recent call last)",
      "Input \u001b[1;32mIn [6]\u001b[0m, in \u001b[0;36m<module>\u001b[1;34m\u001b[0m\n\u001b[0;32m      1\u001b[0m URL \u001b[38;5;241m=\u001b[39m \u001b[38;5;124m'\u001b[39m\u001b[38;5;124mhttps://play.pegaxy.io/marketplace?sortBy=price&sortType=ASC\u001b[39m\u001b[38;5;124m'\u001b[39m\n\u001b[0;32m      2\u001b[0m \u001b[38;5;28;01mwhile\u001b[39;00m \u001b[38;5;241m1\u001b[39m\u001b[38;5;241m==\u001b[39m\u001b[38;5;241m1\u001b[39m:\n\u001b[1;32m----> 3\u001b[0m \t\u001b[43mdriver\u001b[49m\u001b[38;5;241;43m.\u001b[39;49m\u001b[43mget\u001b[49m\u001b[43m(\u001b[49m\u001b[43mURL\u001b[49m\u001b[43m)\u001b[49m\n\u001b[0;32m      4\u001b[0m \ttime\u001b[38;5;241m.\u001b[39msleep(\u001b[38;5;241m5\u001b[39m)\n\u001b[0;32m      5\u001b[0m \tS \u001b[38;5;241m=\u001b[39m Store(driver)\n",
      "File \u001b[1;32m~\\anaconda3\\envs\\scraping\\lib\\site-packages\\selenium\\webdriver\\remote\\webdriver.py:436\u001b[0m, in \u001b[0;36mWebDriver.get\u001b[1;34m(self, url)\u001b[0m\n\u001b[0;32m    432\u001b[0m \u001b[38;5;28;01mdef\u001b[39;00m \u001b[38;5;21mget\u001b[39m(\u001b[38;5;28mself\u001b[39m, url: \u001b[38;5;28mstr\u001b[39m) \u001b[38;5;241m-\u001b[39m\u001b[38;5;241m>\u001b[39m \u001b[38;5;28;01mNone\u001b[39;00m:\n\u001b[0;32m    433\u001b[0m     \u001b[38;5;124;03m\"\"\"\u001b[39;00m\n\u001b[0;32m    434\u001b[0m \u001b[38;5;124;03m    Loads a web page in the current browser session.\u001b[39;00m\n\u001b[0;32m    435\u001b[0m \u001b[38;5;124;03m    \"\"\"\u001b[39;00m\n\u001b[1;32m--> 436\u001b[0m     \u001b[38;5;28;43mself\u001b[39;49m\u001b[38;5;241;43m.\u001b[39;49m\u001b[43mexecute\u001b[49m\u001b[43m(\u001b[49m\u001b[43mCommand\u001b[49m\u001b[38;5;241;43m.\u001b[39;49m\u001b[43mGET\u001b[49m\u001b[43m,\u001b[49m\u001b[43m \u001b[49m\u001b[43m{\u001b[49m\u001b[38;5;124;43m'\u001b[39;49m\u001b[38;5;124;43murl\u001b[39;49m\u001b[38;5;124;43m'\u001b[39;49m\u001b[43m:\u001b[49m\u001b[43m \u001b[49m\u001b[43murl\u001b[49m\u001b[43m}\u001b[49m\u001b[43m)\u001b[49m\n",
      "File \u001b[1;32m~\\anaconda3\\envs\\scraping\\lib\\site-packages\\selenium\\webdriver\\remote\\webdriver.py:424\u001b[0m, in \u001b[0;36mWebDriver.execute\u001b[1;34m(self, driver_command, params)\u001b[0m\n\u001b[0;32m    422\u001b[0m response \u001b[38;5;241m=\u001b[39m \u001b[38;5;28mself\u001b[39m\u001b[38;5;241m.\u001b[39mcommand_executor\u001b[38;5;241m.\u001b[39mexecute(driver_command, params)\n\u001b[0;32m    423\u001b[0m \u001b[38;5;28;01mif\u001b[39;00m response:\n\u001b[1;32m--> 424\u001b[0m     \u001b[38;5;28;43mself\u001b[39;49m\u001b[38;5;241;43m.\u001b[39;49m\u001b[43merror_handler\u001b[49m\u001b[38;5;241;43m.\u001b[39;49m\u001b[43mcheck_response\u001b[49m\u001b[43m(\u001b[49m\u001b[43mresponse\u001b[49m\u001b[43m)\u001b[49m\n\u001b[0;32m    425\u001b[0m     response[\u001b[38;5;124m'\u001b[39m\u001b[38;5;124mvalue\u001b[39m\u001b[38;5;124m'\u001b[39m] \u001b[38;5;241m=\u001b[39m \u001b[38;5;28mself\u001b[39m\u001b[38;5;241m.\u001b[39m_unwrap_value(\n\u001b[0;32m    426\u001b[0m         response\u001b[38;5;241m.\u001b[39mget(\u001b[38;5;124m'\u001b[39m\u001b[38;5;124mvalue\u001b[39m\u001b[38;5;124m'\u001b[39m, \u001b[38;5;28;01mNone\u001b[39;00m))\n\u001b[0;32m    427\u001b[0m     \u001b[38;5;28;01mreturn\u001b[39;00m response\n",
      "File \u001b[1;32m~\\anaconda3\\envs\\scraping\\lib\\site-packages\\selenium\\webdriver\\remote\\errorhandler.py:247\u001b[0m, in \u001b[0;36mErrorHandler.check_response\u001b[1;34m(self, response)\u001b[0m\n\u001b[0;32m    245\u001b[0m         alert_text \u001b[38;5;241m=\u001b[39m value[\u001b[38;5;124m'\u001b[39m\u001b[38;5;124malert\u001b[39m\u001b[38;5;124m'\u001b[39m]\u001b[38;5;241m.\u001b[39mget(\u001b[38;5;124m'\u001b[39m\u001b[38;5;124mtext\u001b[39m\u001b[38;5;124m'\u001b[39m)\n\u001b[0;32m    246\u001b[0m     \u001b[38;5;28;01mraise\u001b[39;00m exception_class(message, screen, stacktrace, alert_text)  \u001b[38;5;66;03m# type: ignore[call-arg]  # mypy is not smart enough here\u001b[39;00m\n\u001b[1;32m--> 247\u001b[0m \u001b[38;5;28;01mraise\u001b[39;00m exception_class(message, screen, stacktrace)\n",
      "\u001b[1;31mWebDriverException\u001b[0m: Message: chrome not reachable\n  (Session info: chrome=97.0.4692.99)\nStacktrace:\nBacktrace:\n\tOrdinal0 [0x00B6FDC3+2555331]\n\tOrdinal0 [0x00B077F1+2127857]\n\tOrdinal0 [0x00A02CD0+1060048]\n\tOrdinal0 [0x009F7BE2+1014754]\n\tOrdinal0 [0x009F83E8+1016808]\n\tOrdinal0 [0x009F9C02+1022978]\n\tOrdinal0 [0x009F3AB9+998073]\n\tOrdinal0 [0x00A04040+1065024]\n\tOrdinal0 [0x00A56DC2+1404354]\n\tOrdinal0 [0x00A47976+1341814]\n\tOrdinal0 [0x00A236B6+1193654]\n\tOrdinal0 [0x00A24546+1197382]\n\tGetHandleVerifier [0x00D09622+1619522]\n\tGetHandleVerifier [0x00DB882C+2336844]\n\tGetHandleVerifier [0x00C023E1+541697]\n\tGetHandleVerifier [0x00C01443+537699]\n\tOrdinal0 [0x00B0D18E+2150798]\n\tOrdinal0 [0x00B11518+2168088]\n\tOrdinal0 [0x00B11660+2168416]\n\tOrdinal0 [0x00B1B330+2208560]\n\tBaseThreadInitThunk [0x7572FA29+25]\n\tRtlGetAppContainerNamedObjectPath [0x77847A9E+286]\n\tRtlGetAppContainerNamedObjectPath [0x77847A6E+238]\n"
     ]
    }
   ],
   "source": [
    "URL = 'https://play.pegaxy.io/marketplace?sortBy=price&sortType=ASC'\n",
    "while 1==1:\n",
    "\tdriver.get(URL)\n",
    "\ttime.sleep(5)\n",
    "\tS = Store(driver)\n",
    "\t# print(len(S.horses))\n",
    "\tcheapest_horse = S.horses[0].price\n",
    "\tif cheapest_horse <= 1100:\n",
    "\t\tprint(f'Buy at {cheapest_horse}')\n",
    "\n",
    "\n",
    "\ttime.sleep(60 * 5)\n"
   ]
  },
  {
   "cell_type": "code",
   "execution_count": null,
   "metadata": {},
   "outputs": [],
   "source": [
    "\n",
    "<div class=\"item-pega\"><a href=\"/marketplace/auction/102379\"><div class=\"item-box\"><div class=\"item-cover\"><div style=\"display: block; overflow: hidden; position: relative; box-sizing: border-box; margin: 0px;\"><div style=\"display: block; box-sizing: border-box; padding-top: 50%;\"></div><img alt=\"\" src=\"https://cdn.pegaxy.io/data/pega/1642772455047\" decoding=\"async\" data-nimg=\"responsive\" class=\"item-cover-img\" style=\"position: absolute; inset: 0px; box-sizing: border-box; padding: 0px; border: none; margin: auto; display: block; width: 0px; height: 0px; min-width: 100%; max-width: 100%; min-height: 100%; max-height: 100%;\"><noscript></noscript></div></div><div class=\"item-header\"><div class=\"info-inner\"><div class=\"item-info-time\">16:51:04</div></div><div class=\"info-atts\"><div class=\"info-name\"><div class=\"item-info-title\">#76605 H-4 | JCG</div><div class=\"item-info-meta\">Hoz <span>•</span> Pacer<span>•</span> Male</div></div><div class=\"info-adds\"><div class=\"info-adds-title\">0x51E3a...d5109</div><div class=\"info-property\"><div class=\"property-title\"><div class=\"property-coat\"><div class=\"item-coat\" style=\"background-color: rgb(0, 13, 107);\"></div><div class=\"item-coat\" style=\"background-color: rgb(255, 81, 81);\"></div><div class=\"item-coat\" style=\"background-color: rgb(0, 13, 107);\"></div></div></div></div></div></div></div><div class=\"item-class class-pega breed\">3</div><div class=\"item-badge\"><div style=\"overflow: hidden; box-sizing: border-box; display: inline-block; position: relative; width: 16px; height: 16px;\"><img alt=\"\" src=\"/images/ic_item_badge.png\" decoding=\"async\" data-nimg=\"fixed\" class=\"item-img\" style=\"position: absolute; inset: 0px; box-sizing: border-box; padding: 0px; border: none; margin: auto; display: block; width: 0px; height: 0px; min-width: 100%; max-width: 100%; min-height: 100%; max-height: 100%;\"><noscript></noscript></div></div></div></a><div class=\"info-action\"><div class=\"action-group\"><div class=\"item-link\"><div class=\"button-game primary\" style=\"height: 32px;\"><div class=\"btn-position button-game-left\" style=\"width: 16px; height: 32px;\"></div><div class=\"btn-position button-game-content\" style=\"height: 32px; padding-right: 16px; padding-left: 16px;\"><div class=\"content-name\"><span class=\"content-name-sub\">Current Bid:</span><span class=\"content-name-title\" style=\"font-size: 20px;\">1,100</span></div><div class=\"button-game-icon i-right\"><div style=\"overflow: hidden; box-sizing: border-box; display: inline-block; position: relative; width: 25px; height: 25px;\"><img alt=\"\" src=\"/images/coin/USDT.png\" decoding=\"async\" data-nimg=\"fixed\" class=\"game-icon-img\" style=\"position: absolute; inset: 0px; box-sizing: border-box; padding: 0px; border: none; margin: auto; display: block; width: 0px; height: 0px; min-width: 100%; max-width: 100%; min-height: 100%; max-height: 100%;\"><noscript></noscript></div></div></div><div class=\"btn-position button-game-right\" style=\"width: 16px; height: 32px;\"></div></div></div></div></div></div>\n"
   ]
  }
 ],
 "metadata": {
  "interpreter": {
   "hash": "c93dcb8a4a88c24cc08c307c4c5d31da769af7f9daa0e3e9424914460bcaeadf"
  },
  "kernelspec": {
   "display_name": "Python 3.8.5 64-bit ('base': conda)",
   "language": "python",
   "name": "python3"
  },
  "language_info": {
   "codemirror_mode": {
    "name": "ipython",
    "version": 3
   },
   "file_extension": ".py",
   "mimetype": "text/x-python",
   "name": "python",
   "nbconvert_exporter": "python",
   "pygments_lexer": "ipython3",
   "version": "3.10.2"
  },
  "orig_nbformat": 4
 },
 "nbformat": 4,
 "nbformat_minor": 2
}
