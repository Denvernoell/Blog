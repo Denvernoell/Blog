{
 "cells": [
  {
   "cell_type": "code",
   "execution_count": 1,
   "metadata": {},
   "outputs": [
    {
     "data": {
      "text/plain": [
       "<AxesSubplot:>"
      ]
     },
     "execution_count": 1,
     "metadata": {},
     "output_type": "execute_result"
    },
    {
     "data": {
      "image/png": "[encoded data removed]",
      "text/plain": [
       "<Figure size 432x288 with 1 Axes>"
      ]
     },
     "metadata": {
      "needs_background": "light"
     },
     "output_type": "display_data"
    }
   ],
   "source": [
    "from matplotlib import pyplot as plt\n",
    "import geopandas as gpd\n",
    "from shapely.geometry import Polygon\n",
    "\n",
    "polys1 = gpd.GeoSeries([Polygon([(0,0), (2,0), (2,2), (0,2)]),\n",
    "                         Polygon([(2,2), (4,2), (4,4), (2,4)])])\n",
    "\n",
    "polys2 = gpd.GeoSeries([Polygon([(1,1), (3,1), (3,3), (1,3)]),\n",
    "                         Polygon([(3,3), (5,3), (5,5), (3,5)])])\n",
    "\n",
    "df1 = gpd.GeoDataFrame({'geometry': polys1, 'df1':[1,2]})\n",
    "df2 = gpd.GeoDataFrame({'geometry': polys2, 'df2':[1,2]})\n",
    "\n",
    "res_union = gpd.overlay(df1, df2, how='union')\n",
    "res_union.plot()"
   ]
  },
  {
   "cell_type": "code",
   "execution_count": 2,
   "metadata": {},
   "outputs": [
    {
     "ename": "NameError",
     "evalue": "name 'poly1' is not defined",
     "output_type": "error",
     "traceback": [
      "\u001b[1;31m---------------------------------------------------------------------------\u001b[0m",
      "\u001b[1;31mNameError\u001b[0m                                 Traceback (most recent call last)",
      "Input \u001b[1;32mIn [2]\u001b[0m, in \u001b[0;36m<module>\u001b[1;34m\u001b[0m\n\u001b[0;32m      1\u001b[0m \u001b[38;5;28;01mfrom\u001b[39;00m \u001b[38;5;21;01mshapely\u001b[39;00m\u001b[38;5;21;01m.\u001b[39;00m\u001b[38;5;21;01mops\u001b[39;00m \u001b[38;5;28;01mimport\u001b[39;00m cascaded_union\n\u001b[1;32m----> 2\u001b[0m polygons \u001b[38;5;241m=\u001b[39m [\u001b[43mpoly1\u001b[49m[\u001b[38;5;241m0\u001b[39m], poly1[\u001b[38;5;241m1\u001b[39m], poly2[\u001b[38;5;241m0\u001b[39m], poly2[\u001b[38;5;241m1\u001b[39m]]\n\u001b[0;32m      3\u001b[0m boundary \u001b[38;5;241m=\u001b[39m gpd\u001b[38;5;241m.\u001b[39mGeoSeries(cascaded_union(polygons))\n\u001b[0;32m      4\u001b[0m boundary\u001b[38;5;241m.\u001b[39mplot(color \u001b[38;5;241m=\u001b[39m \u001b[38;5;124m'\u001b[39m\u001b[38;5;124mred\u001b[39m\u001b[38;5;124m'\u001b[39m)\n",
      "\u001b[1;31mNameError\u001b[0m: name 'poly1' is not defined"
     ]
    }
   ],
   "source": [
    "from shapely.ops import cascaded_union\n",
    "polygons = [poly1[0], poly1[1], poly2[0], poly2[1]]\n",
    "boundary = gpd.GeoSeries(cascaded_union(polygons))\n",
    "boundary.plot(color = 'red')\n",
    "plt.show()"
   ]
  }
 ],
 "metadata": {
  "interpreter": {
   "hash": "2350ee7e3c147e1dc06e18d2da31e790e1975b070e4a761c54f436888691577e"
  },
  "kernelspec": {
   "display_name": "Python 3.10.1 64-bit ('gis': conda)",
   "language": "python",
   "name": "python3"
  },
  "language_info": {
   "codemirror_mode": {
    "name": "ipython",
    "version": 3
   },
   "file_extension": ".py",
   "mimetype": "text/x-python",
   "name": "python",
   "nbconvert_exporter": "python",
   "pygments_lexer": "ipython3",
   "version": "3.9.10"
  },
  "orig_nbformat": 4
 },
 "nbformat": 4,
 "nbformat_minor": 2
}
