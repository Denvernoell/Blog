{
 "cells": [
  {
   "cell_type": "code",
   "execution_count": 1,
   "metadata": {},
   "outputs": [
    {
     "ename": "ModuleNotFoundError",
     "evalue": "No module named 'arcgis'",
     "output_type": "error",
     "traceback": [
      "\u001b[1;31m---------------------------------------------------------------------------\u001b[0m",
      "\u001b[1;31mModuleNotFoundError\u001b[0m                       Traceback (most recent call last)",
      "Input \u001b[1;32mIn [1]\u001b[0m, in \u001b[0;36m<module>\u001b[1;34m\u001b[0m\n\u001b[0;32m      3\u001b[0m \u001b[38;5;28;01mimport\u001b[39;00m \u001b[38;5;21;01mpandas\u001b[39;00m \u001b[38;5;28;01mas\u001b[39;00m \u001b[38;5;21;01mpd\u001b[39;00m\n\u001b[0;32m      4\u001b[0m \u001b[38;5;28;01mfrom\u001b[39;00m \u001b[38;5;21;01mIPython\u001b[39;00m\u001b[38;5;21;01m.\u001b[39;00m\u001b[38;5;21;01mdisplay\u001b[39;00m \u001b[38;5;28;01mimport\u001b[39;00m HTML\n\u001b[1;32m----> 6\u001b[0m \u001b[38;5;28;01mfrom\u001b[39;00m \u001b[38;5;21;01marcgis\u001b[39;00m\u001b[38;5;21;01m.\u001b[39;00m\u001b[38;5;21;01mgis\u001b[39;00m \u001b[38;5;28;01mimport\u001b[39;00m GIS\n\u001b[0;32m      7\u001b[0m \u001b[38;5;28;01mfrom\u001b[39;00m \u001b[38;5;21;01marcgis\u001b[39;00m\u001b[38;5;21;01m.\u001b[39;00m\u001b[38;5;21;01mnetwork\u001b[39;00m \u001b[38;5;28;01mimport\u001b[39;00m ClosestFacilityLayer\n\u001b[0;32m      8\u001b[0m \u001b[38;5;28;01mfrom\u001b[39;00m \u001b[38;5;21;01marcgis\u001b[39;00m \u001b[38;5;28;01mimport\u001b[39;00m geocoding\n",
      "\u001b[1;31mModuleNotFoundError\u001b[0m: No module named 'arcgis'"
     ]
    }
   ],
   "source": [
    "import traceback\n",
    "\n",
    "import pandas as pd\n",
    "from IPython.display import HTML\n",
    "\n",
    "try:\n",
    "\tfrom arcgis.gis import GIS\n",
    "\tfrom arcgis.network import ClosestFacilityLayer\n",
    "\tfrom arcgis import geocoding\n",
    "\tfrom arcgis.features import Feature, FeatureSet\n",
    "except:\n",
    "\timport os\n",
    "\tprint('arcgis not installed')\n",
    "\tcommand = 'conda install -c esri arcgis'\n",
    "\tos.system(command)\n",
    "\t# print()\n",
    "\n",
    "# Connect to your GIS\n",
    "gis = GIS(\"home\")"
   ]
  },
  {
   "cell_type": "code",
   "execution_count": null,
   "metadata": {},
   "outputs": [],
   "source": [
    "try:\n",
    "    analysis_url = gis.properties.helperServices.closestFacility.url\n",
    "    print(\"Closest Facility URL successfully retrieved\")\n",
    "except Exception as e:\n",
    "    traceback.print_exc()\n",
    "    raise Exception(f\"Network Analysis is not properly configured \"\\\n",
    "                    f\"on your Organization: {e}\")"
   ]
  },
  {
   "cell_type": "code",
   "execution_count": null,
   "metadata": {},
   "outputs": [],
   "source": [
    "cf_layer = ClosestFacilityLayer(analysis_url, gis = gis)"
   ]
  },
  {
   "cell_type": "code",
   "execution_count": null,
   "metadata": {},
   "outputs": [],
   "source": [
    "hospitals_addresses = [\n",
    "    'San Gorgonio Memorial Hospital,600 N. Highland Springs Ave.,'\\\n",
    "        'Banning,CA,92220',\n",
    "    'Desert Regional Medical Center,1150 N. Indian Canyon Dr.,'\\\n",
    "        'Palm Springs,CA,92262',\n",
    "    'JFK Memorial Hospital,47111 Monroe St.,Indio,CA,92201',\n",
    "    'Hi-Desert Medical Center,6601 White Feather Rd.,'\\\n",
    "        'Joshua Tree,CA,92252',\n",
    "    'Eisenhower Health,39000 Bob Hope Dr.,Rancho Mirage,CA,92270']"
   ]
  },
  {
   "cell_type": "code",
   "execution_count": null,
   "metadata": {},
   "outputs": [],
   "source": [
    "hosp_feat_list = []\n",
    "\n",
    "for address in hospitals_addresses:\n",
    "    hit = geocoding.geocode(address)[0]\n",
    "    hosp_feat = Feature(geometry=hit['location'],\n",
    "                        attributes=hit['attributes'])\n",
    "    hosp_feat_list.append(hosp_feat)"
   ]
  },
  {
   "cell_type": "code",
   "execution_count": null,
   "metadata": {},
   "outputs": [],
   "source": [
    "hospitals_fset = FeatureSet(features=hosp_feat_list, \n",
    "                            geometry_type='esriGeometryPoint', \n",
    "                            spatial_reference={'latestWkid': 4326})"
   ]
  },
  {
   "cell_type": "code",
   "execution_count": null,
   "metadata": {},
   "outputs": [],
   "source": [
    "map1 = gis.map('Palm Springs, CA')\n",
    "map1"
   ]
  },
  {
   "cell_type": "code",
   "execution_count": null,
   "metadata": {},
   "outputs": [],
   "source": [
    "map1.zoom = 8\n"
   ]
  },
  {
   "cell_type": "code",
   "execution_count": null,
   "metadata": {},
   "outputs": [],
   "source": [
    "map1.draw(hospitals_fset,\n",
    "          symbol={\"type\": \"esriSMS\",\"style\": \"esriSMSSquare\",\n",
    "                  \"color\": [76,115,0,255],\"size\": 8,})"
   ]
  },
  {
   "cell_type": "code",
   "execution_count": null,
   "metadata": {},
   "outputs": [],
   "source": [
    "# Create Incidents Layer\n",
    "# Similarly, let us create the incident layer\n",
    "\n",
    "incident_coords = '-116.391287,33.808053'\n",
    "reverse_geocode = geocoding.reverse_geocode(\n",
    "    {\"x\": incident_coords.split(',')[0], \n",
    "     \"y\": incident_coords.split(',')[1]})\n",
    "\n",
    "incident_feature = Feature(geometry=reverse_geocode['location'], \n",
    "                           attributes=reverse_geocode['address'])\n",
    "                           \n"
   ]
  },
  {
   "cell_type": "code",
   "execution_count": null,
   "metadata": {},
   "outputs": [],
   "source": [
    "incident_fset = FeatureSet([incident_feature],\n",
    "                           geometry_type='esriGeometryPoint',\n",
    "                           spatial_reference={'latestWkid': 4326})\n",
    "                           \n"
   ]
  },
  {
   "cell_type": "code",
   "execution_count": null,
   "metadata": {},
   "outputs": [],
   "source": [
    "# Add the incident to the map\n",
    "\n",
    "map1.draw(incident_fset,\n",
    "          symbol={\"type\": \"esriSMS\",\"style\": \"esriSMSDiamond\",\n",
    "                  \"size\": 12, \"color\":[255,0,0,255]})\n",
    "                  \n"
   ]
  },
  {
   "cell_type": "code",
   "execution_count": null,
   "metadata": {},
   "outputs": [],
   "source": [
    "# Solve for Closest Facility\n",
    "# By default the closest facility service would return only the closest location, so we need to specify explicitly the default_target_facility_count parameter as well as return_facilities to get multiple results.\n",
    "\n",
    "result = cf_layer.solve_closest_facility(\n",
    "    incidents=incident_fset,\n",
    "    facilities=hospitals_fset,\n",
    "    default_target_facility_count=5,\n",
    "    return_facilities=True,\n",
    "    impedance_attribute_name='TravelTime',\n",
    "    accumulate_attribute_names=['Kilometers','TravelTime'])\n",
    "    \n"
   ]
  },
  {
   "cell_type": "code",
   "execution_count": null,
   "metadata": {},
   "outputs": [],
   "source": [
    "# Inspect the result dictionary\n",
    "\n",
    "result.keys()\n"
   ]
  },
  {
   "cell_type": "code",
   "execution_count": null,
   "metadata": {},
   "outputs": [],
   "source": [
    "\n",
    "# dict_keys(['messages', 'routes', 'facilities'])\n",
    "# Let's use the routes dictionary to construct line features out of the routes to display on the map. From the routes dictionary will find out the proper key to get each route: the features key.\n",
    "\n",
    "result['routes'].keys()\n"
   ]
  },
  {
   "cell_type": "code",
   "execution_count": null,
   "metadata": {},
   "outputs": [],
   "source": [
    "\n",
    "# dict_keys(['fieldAliases', 'geometryType', 'spatialReference', 'features'])\n",
    "result['routes']['features'][0].keys()\n"
   ]
  },
  {
   "cell_type": "code",
   "execution_count": null,
   "metadata": {},
   "outputs": [],
   "source": [
    "\n",
    "# dict_keys(['attributes', 'geometry'])\n",
    "# Construct line features out of the routes that are returned.\n",
    "\n",
    "line_feat_list = []\n",
    "for line_dict in result['routes']['features']:\n",
    "    f1 = Feature(line_dict['geometry'], line_dict['attributes'])\n",
    "    line_feat_list.append(f1)\n",
    "routes_fset = FeatureSet(line_feat_list, \n",
    "    geometry_type=result['routes']['geometryType'],\n",
    "    spatial_reference= result['routes']['spatialReference'])\n",
    "# Add the routes back to the map. The route to the closest hospital is in red\n",
    "\n",
    "map1.draw(routes_fset)\n",
    "# Analyze Results in a Table\n",
    "# Since we parsed the routes as a FeatureSet, we can display the attributes easily as a pandas DataFrame. We'll sort the dataframe according to the Name attribute of the solve_closest_facility task results.\n"
   ]
  },
  {
   "cell_type": "code",
   "execution_count": null,
   "metadata": {},
   "outputs": [],
   "source": [
    "\n",
    "df1 = routes_fset.sdf.sort_values(by=['Name'])\n",
    "df1\n"
   ]
  },
  {
   "cell_type": "code",
   "execution_count": null,
   "metadata": {},
   "outputs": [],
   "source": [
    "\n",
    "# Add the hospital addresses and incident address to this table and display only the relevant columns\n",
    "\n",
    "df1['facility_address'] = hospitals_addresses\n",
    "df1['incident_address'] = [incident_feature.attributes['Match_addr'] \\\n",
    "                          for i in range(len(hospitals_addresses))]\n",
    "pd.set_option('max_colwidth', 80)\n"
   ]
  },
  {
   "cell_type": "code",
   "execution_count": null,
   "metadata": {},
   "outputs": [],
   "source": [
    "\n",
    "df1[['facility_address','incident_address','Total_Miles',\n",
    "     'Total_TravelTime']].sort_values(by=['Total_TravelTime'])\n",
    "\n",
    "\n",
    "# Conclusion\n",
    "# Using the network module of the ArcGIS API for Python, you can solve for closest facilities from an incident location."
   ]
  },
  {
   "cell_type": "code",
   "execution_count": null,
   "metadata": {},
   "outputs": [],
   "source": []
  },
  {
   "cell_type": "code",
   "execution_count": null,
   "metadata": {},
   "outputs": [],
   "source": []
  }
 ],
 "metadata": {
  "interpreter": {
   "hash": "2350ee7e3c147e1dc06e18d2da31e790e1975b070e4a761c54f436888691577e"
  },
  "kernelspec": {
   "display_name": "Python 3.10.1 64-bit ('gis': conda)",
   "language": "python",
   "name": "python3"
  },
  "language_info": {
   "codemirror_mode": {
    "name": "ipython",
    "version": 3
   },
   "file_extension": ".py",
   "mimetype": "text/x-python",
   "name": "python",
   "nbconvert_exporter": "python",
   "pygments_lexer": "ipython3",
   "version": "3.10.1"
  },
  "orig_nbformat": 4
 },
 "nbformat": 4,
 "nbformat_minor": 2
}
