{
 "cells": [
  {
   "cell_type": "code",
   "execution_count": 3,
   "metadata": {},
   "outputs": [],
   "source": [
    "from secrets import username,password,app_password\n",
    "\n",
    "import smtplib\n",
    "from email.message import EmailMessage\n",
    "def email_alert(to,subject,body):\n",
    "\tmsg = EmailMessage()\n",
    "\tmsg.set_content(body)\n",
    "\tmsg['Subject'] = subject\n",
    "\tmsg['to'] = to\n",
    "\tmsg['from'] = username\n",
    "\n",
    "\tserver = smtplib.SMTP(\"smtp.gmail.com\",587)\n",
    "\tserver.starttls()\n",
    "\tserver.login(username,app_password)\n",
    "\n",
    "\n",
    "\tserver.send_message(msg)\n",
    "\tserver.quit()\n",
    "\n",
    "if __name__ == '__main__':\n",
    "\temail_alert(\n",
    "\t\tto=\"denvernoell@gmail.com\",\n",
    "\t\tsubject=\"Hello\",\n",
    "\t\tbody=\"This is a test\")"
   ]
  }
 ],
 "metadata": {
  "interpreter": {
   "hash": "3067a4e9b670b2f5e73a74e9a2d9c6a2f3ee8374356055677ff1895112a0b210"
  },
  "kernelspec": {
   "display_name": "Python 3.8.3 64-bit ('base': conda)",
   "language": "python",
   "name": "python3"
  },
  "language_info": {
   "codemirror_mode": {
    "name": "ipython",
    "version": 3
   },
   "file_extension": ".py",
   "mimetype": "text/x-python",
   "name": "python",
   "nbconvert_exporter": "python",
   "pygments_lexer": "ipython3",
   "version": "3.8.3"
  },
  "orig_nbformat": 4
 },
 "nbformat": 4,
 "nbformat_minor": 2
}
