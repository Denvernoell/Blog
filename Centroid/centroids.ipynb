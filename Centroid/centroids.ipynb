{
 "cells": [
  {
   "cell_type": "code",
   "execution_count": 278,
   "metadata": {},
   "outputs": [],
   "source": [
    "from shapely.geometry import Point, Polygon\n",
    "from descartes import PolygonPatch\n",
    "from IPython.display import display\n",
    "from icecream import ic\n",
    "from math import pi\n",
    "import matplotlib.pyplot as plt"
   ]
  },
  {
   "cell_type": "code",
   "execution_count": 323,
   "metadata": {},
   "outputs": [],
   "source": [
    "class single_shape:\n",
    "\tdef __init__(self,shape,shape_type,full_shape,inertia_type,axis_type):\n",
    "\t\tself.shape = shape\n",
    "\t\tself.shape_type = shape_type\n",
    "\t\tself.inertia_type = inertia_type\n",
    "\t\tself.full_shape = full_shape\n",
    "\t\tself.axis_type = axis_type\n",
    "\t\tself.get_bounds()\n",
    "\t\tself.get_inertia()\n",
    "\n",
    "\n",
    "\t\n",
    "\tdef get_bounds(self):\n",
    "\t\ts = self.shape\n",
    "\t\tself.x_len = (s.bounds[2] - s.bounds[0])\n",
    "\t\tself.y_len = (s.bounds[3] - s.bounds[1])\n",
    "\n",
    "\n",
    "\t\tif self.inertia_type == 'I_y':\n",
    "\t\t\tself.b = self.y_len\n",
    "\t\t\tself.h = self.x_len\n",
    "\t\t\tif self.axis_type == 'axis':\n",
    "\t\t\t\tself.p_axis =  (self.shape.area * (self.shape.centroid.x)**2)\n",
    "\t\t\telif self.axis_type == 'centroid':\n",
    "\t\t\t\tself.p_axis =  (self.shape.area * (self.shape.centroid.x - self.full_shape.centroid.x)**2)\n",
    "\t\t\t# \n",
    "\n",
    "\n",
    "\t\telif self.inertia_type == 'I_x':\n",
    "\t\t\tself.b = self.x_len\n",
    "\t\t\tself.h = self.y_len\n",
    "\t\t\tif self.axis_type == 'axis':\n",
    "\t\t\t\tself.p_axis =  (self.shape.area * (self.shape.centroid.y)**2)\n",
    "\t\t\telif self.axis_type == 'centroid':\n",
    "\t\t\t\tself.p_axis =  (self.shape.area * (self.shape.centroid.y - self.full_shape.centroid.y)**2)\n",
    "\n",
    "\t\t\t# \n",
    "\t\t\n",
    "\n",
    "\t\t# printer\n",
    "\t\t# ic(self.b)\n",
    "\t\t# ic(self.h)\n",
    "\t\t# ic(self.shape.area)\n",
    "\t\t# ic(self.shape.centroid.x)\n",
    "\t\t# ic(self.full_shape.centroid.x)\n",
    "\t\t# ic(self.shape.centroid.y)\n",
    "\t\t# ic(self.full_shape.centroid.y)\n",
    "\t\t# print(\"\\n\")\n",
    "\n",
    "\n",
    "\t\n",
    "\tdef get_inertia(self):\n",
    "\t\tif self.shape_type == 'Rectangle':\n",
    "\t\t\tself.inertia = (1/12 * self.b * self.h**3) + self.p_axis\n",
    "\t\telif self.shape_type == 'Triangle':\n",
    "\t\t\tself.inertia = (1/36 * self.b * self.h**3) + self.p_axis\n",
    "\t\telif self.shape_type == 'Circle':\n",
    "\t\t\tself.inertia = (1/4 * pi * (self.b/2)**4) + self.p_axis\n",
    "\n",
    "\n",
    "class full_shape:\n",
    "\tdef __init__(self,shapes,inertia_type,axis_type):\n",
    "\t\tfor i,shape in enumerate(shapes):\n",
    "\t\t\tif i == 0:\n",
    "\t\t\t\tself.shape = shape['shape']\n",
    "\t\t\telif shape['sign'] == '+':\n",
    "\t\t\t\tself.shape = self.shape.union(shape['shape'])\n",
    "\t\t\telse:\n",
    "\t\t\t\tself.shape = self.shape.difference(shape['shape'])\n",
    "\n",
    "\t\tfor i,shape in enumerate(shapes):\n",
    "\t\t\tsingle_inertia = single_shape(shape['shape'],shape['shape_type'],self.shape,inertia_type,axis_type).inertia\n",
    "\t\t\tprint(f\"{i}  {single_inertia:,.2f}\")\n",
    "\t\t\tif i == 0:\n",
    "\t\t\t\tself.inertia = single_inertia\n",
    "\t\t\telif shape['sign'] == '+':\n",
    "\t\t\t\tself.inertia += single_inertia\n",
    "\t\t\telse:\n",
    "\t\t\t\tself.inertia -= single_inertia\n",
    "\n",
    "\t\t# Plot\n",
    "\t\tfig,ax = plt.subplots(figsize=(3,3))\n",
    "\t\tx1,y1,x2,y2 = self.shape.bounds\n",
    "\t\txy1 = min(x1,y1)\n",
    "\t\txy2 = max(x2,y2)\n",
    "\t\tax.set_xlim(xy1,xy2)\n",
    "\t\tax.set_ylim(xy1,xy2)\n",
    "\t\t\n",
    "\n",
    "\t\tfor i,shape in enumerate(shapes):\n",
    "\t\t\tS = shape['shape']\n",
    "\t\t\tif shape['sign'] == '+':\n",
    "\t\t\t\tax.add_artist(PolygonPatch(S,facecolor='green',alpha=0.5))\n",
    "\t\t\t\tax.text(S.centroid.x,S.centroid.y,f\"{i+1}\",fontsize=10,bbox=dict(facecolor='green', alpha=0.5))\n",
    "\t\t\telse:\n",
    "\t\t\t\tax.add_artist(PolygonPatch(S,facecolor='red',alpha=0.5))\n",
    "\t\t\t\tax.text(S.centroid.x,S.centroid.y,f\"{i+1}\",fontsize=10,bbox=dict(facecolor='red', alpha=0.5))\n",
    "\n",
    "\t\t\t\n",
    "\t\tdisplay(ax)\n",
    "\n",
    "\t\t# display(self.shape)\n",
    "\t\t\n",
    "\t\tprint(f\"I = {self.inertia:,.2f}\\n\")\t\t\n",
    "\t\n",
    "\t\t\t\t\n",
    "\tdef get_shape(self):\n",
    "\t\t# display(self.shape)\n",
    "\t\treturn self.shape\n",
    "\t\n",
    "\tdef draw_shape(self):\n",
    "\t\tfig,ax = plt.subplots()\n",
    "\t\tax.add_artist(PolygonPatch(self.shape))\n",
    "\t\t\n",
    "\t\t\n",
    "\n",
    "\t\t\n"
   ]
  },
  {
   "cell_type": "markdown",
   "metadata": {},
   "source": [
    "# Example 1"
   ]
  },
  {
   "cell_type": "code",
   "execution_count": 324,
   "metadata": {},
   "outputs": [
    {
     "name": "stdout",
     "output_type": "stream",
     "text": [
      "0  618.74\n",
      "1  38.48\n",
      "2  110.83\n"
     ]
    },
    {
     "data": {
      "text/plain": [
       "<AxesSubplot:>"
      ]
     },
     "metadata": {},
     "output_type": "display_data"
    },
    {
     "name": "stdout",
     "output_type": "stream",
     "text": [
      "I = 469.43\n",
      "\n"
     ]
    },
    {
     "data": {
      "text/plain": [
       "<__main__.full_shape at 0x10706699f90>"
      ]
     },
     "execution_count": 324,
     "metadata": {},
     "output_type": "execute_result"
    },
    {
     "data": {
      "image/png": "[encoded data removed]",
      "text/plain": [
       "<Figure size 216x216 with 1 Axes>"
      ]
     },
     "metadata": {
      "needs_background": "light"
     },
     "output_type": "display_data"
    }
   ],
   "source": [
    "points = [[0,0],\n",
    "[8,0],\n",
    "[8,8],\n",
    "[5,14],\n",
    "[0,14],]\n",
    "hole = Point(5,8).buffer(2)\n",
    "full = Polygon(points)\n",
    "S1 = full.envelope\n",
    "S2 = hole\n",
    "S3 = S1.difference(full)\n",
    "\n",
    "full = [\n",
    "\t{\n",
    "\t\t'shape':S1,\n",
    "\t\t'shape_type':'Rectangle',\n",
    "\t\t'sign':'+',\n",
    "\t\t},\n",
    "\t{\n",
    "\t\t'shape':S2,\n",
    "\t\t'shape_type':'Circle',\n",
    "\t\t'sign':'-',\n",
    "\t\t},\n",
    "\t{\n",
    "\t\t'shape':S3,\n",
    "\t\t'shape_type':'Triangle',\n",
    "\t\t'sign':'-',\n",
    "\t\t},\n",
    "]\n",
    "full_shape(full,\"I_y\",'centroid')\n",
    "\n",
    "\n"
   ]
  },
  {
   "cell_type": "markdown",
   "metadata": {},
   "source": [
    "# Example 2"
   ]
  },
  {
   "cell_type": "code",
   "execution_count": 325,
   "metadata": {},
   "outputs": [
    {
     "name": "stdout",
     "output_type": "stream",
     "text": [
      "0  1,433,333,333.33\n",
      "1  33,333,333.33\n",
      "2  1,433,333,333.33\n"
     ]
    },
    {
     "data": {
      "text/plain": [
       "<AxesSubplot:>"
      ]
     },
     "metadata": {},
     "output_type": "display_data"
    },
    {
     "name": "stdout",
     "output_type": "stream",
     "text": [
      "I = 2,900,000,000.00\n",
      "\n"
     ]
    },
    {
     "data": {
      "image/png": "[encoded data removed]",
      "text/plain": [
       "<Figure size 216x216 with 1 Axes>"
      ]
     },
     "metadata": {
      "needs_background": "light"
     },
     "output_type": "display_data"
    }
   ],
   "source": [
    "S1 = Polygon([\n",
    "\t[0,700],\n",
    "\t[100,700],\n",
    "\t[100,300],\n",
    "\t[0,300],\n",
    "\t])\n",
    "S2 = Polygon([\n",
    "\t[100,400],\n",
    "\t[500,400],\n",
    "\t[500,300],\n",
    "\t[100,300],\n",
    "\t])\n",
    "S3 = Polygon([\n",
    "\t[500,400],\n",
    "\t[600,400],\n",
    "\t[600,0],\n",
    "\t[500,0],\n",
    "\t])\n",
    "\n",
    "full = [\n",
    "\t{\n",
    "\t\t'shape':S1,\n",
    "\t\t'shape_type':'Rectangle',\n",
    "\t\t'sign':'+',\n",
    "\t\t},\n",
    "\t{\n",
    "\t\t'shape':S2,\n",
    "\t\t'shape_type':'Rectangle',\n",
    "\t\t'sign':'+',\n",
    "\t\t},\n",
    "\t{\n",
    "\t\t'shape':S3,\n",
    "\t\t'shape_type':'Rectangle',\n",
    "\t\t'sign':'+',\n",
    "\t\t},\n",
    "]\n",
    "# full_shape(full,\"I_x\",'centroid').get_shape()\n",
    "F = full_shape(full,\"I_x\",'centroid').get_shape()\n",
    "\n",
    "\n",
    "# full_shape(full,\"I_y\",'centroid')\n",
    "\n",
    "\n"
   ]
  },
  {
   "cell_type": "code",
   "execution_count": 326,
   "metadata": {},
   "outputs": [
    {
     "name": "stdout",
     "output_type": "stream",
     "text": [
      "0  2.67\n",
      "1  366.00\n",
      "2  1,458.67\n"
     ]
    },
    {
     "data": {
      "text/plain": [
       "<AxesSubplot:>"
      ]
     },
     "metadata": {},
     "output_type": "display_data"
    },
    {
     "name": "stdout",
     "output_type": "stream",
     "text": [
      "I = 1,827.33\n",
      "\n"
     ]
    },
    {
     "data": {
      "text/plain": [
       "<__main__.full_shape at 0x1070669b460>"
      ]
     },
     "execution_count": 326,
     "metadata": {},
     "output_type": "execute_result"
    },
    {
     "data": {
      "image/png": "[encoded data removed]",
      "text/plain": [
       "<Figure size 216x216 with 1 Axes>"
      ]
     },
     "metadata": {
      "needs_background": "light"
     },
     "output_type": "display_data"
    }
   ],
   "source": [
    "S1 = Polygon([\n",
    "\t[0,0],\n",
    "\t[8,0],\n",
    "\t[8,1],\n",
    "\t[0,1],\n",
    "\t])\n",
    "S2 = Polygon([\n",
    "\t[3.75,1],\n",
    "\t[4.25,1],\n",
    "\t[4.25,13],\n",
    "\t[3.75,13],\n",
    "\t])\n",
    "S3 = Polygon([\n",
    "\t[0,13],\n",
    "\t[8,13],\n",
    "\t[8,14],\n",
    "\t[0,14],\n",
    "\t])\n",
    "\n",
    "# display(S1)\n",
    "# display(S2)\n",
    "# display(S3)\n",
    "\n",
    "\n",
    "shapes = [\n",
    "\t{\n",
    "\t\t'shape':S1,\n",
    "\t\t'shape_type':'Rectangle',\n",
    "\t\t'sign':'+',\n",
    "\t\t},\n",
    "\t{\n",
    "\t\t'shape':S2,\n",
    "\t\t'shape_type':'Rectangle',\n",
    "\t\t'sign':'+',\n",
    "\t\t},\n",
    "\t{\n",
    "\t\t'shape':S3,\n",
    "\t\t'shape_type':'Rectangle',\n",
    "\t\t'sign':'+',\n",
    "\t\t},\n",
    "]\n",
    "full_shape(shapes,\"I_x\",'axis')\n"
   ]
  },
  {
   "cell_type": "markdown",
   "metadata": {},
   "source": [
    "# Example 4"
   ]
  },
  {
   "cell_type": "code",
   "execution_count": 327,
   "metadata": {},
   "outputs": [
    {
     "name": "stdout",
     "output_type": "stream",
     "text": [
      "0  1,458.00\n",
      "1  125.48\n",
      "2  580.50\n",
      "3  1,093.50\n"
     ]
    },
    {
     "data": {
      "text/plain": [
       "<AxesSubplot:>"
      ]
     },
     "metadata": {},
     "output_type": "display_data"
    },
    {
     "name": "stdout",
     "output_type": "stream",
     "text": [
      "I = 1,845.52\n",
      "\n",
      "0  648.00\n",
      "1  125.48\n",
      "2  54.00\n",
      "3  1,782.00\n"
     ]
    },
    {
     "data": {
      "text/plain": [
       "<AxesSubplot:>"
      ]
     },
     "metadata": {},
     "output_type": "display_data"
    },
    {
     "name": "stdout",
     "output_type": "stream",
     "text": [
      "I = 2,250.52\n",
      "\n"
     ]
    },
    {
     "data": {
      "image/svg+xml": "<svg xmlns=\"http://www.w3.org/2000/svg\" xmlns:xlink=\"http://www.w3.org/1999/xlink\" width=\"100.0\" height=\"100.0\" viewBox=\"-0.36 -0.36 6.720000000000001 9.719999999999999\" preserveAspectRatio=\"xMinYMin meet\"><g transform=\"matrix(1,0,0,-1,0,9.0)\"><path fill-rule=\"evenodd\" fill=\"#66cc99\" stroke=\"#555555\" stroke-width=\"0.1944\" opacity=\"0.6\" d=\"M 0.0,0.0 L 0.0,9.0 L 6.0,9.0 L 6.0,0.0 L 0.0,0.0 z\" /></g></svg>",
      "text/plain": [
       "<shapely.geometry.polygon.Polygon at 0x107064b2560>"
      ]
     },
     "execution_count": 327,
     "metadata": {},
     "output_type": "execute_result"
    },
    {
     "data": {
      "image/png": "[encoded data removed]",
      "text/plain": [
       "<Figure size 216x216 with 1 Axes>"
      ]
     },
     "metadata": {
      "needs_background": "light"
     },
     "output_type": "display_data"
    },
    {
     "data": {
      "image/png": "[encoded data removed]",
      "text/plain": [
       "<Figure size 216x216 with 1 Axes>"
      ]
     },
     "metadata": {
      "needs_background": "light"
     },
     "output_type": "display_data"
    }
   ],
   "source": [
    "S1 = Polygon([\n",
    "\t[0,0],\n",
    "\t[6,0],\n",
    "\t[6,9],\n",
    "\t[0,9],\n",
    "\t])\n",
    "S2 = Point(3,3).buffer(2)\n",
    "S3 = Polygon([\n",
    "\t[0,6],\n",
    "\t[0,9],\n",
    "\t[6,9],\n",
    "\t])\n",
    "S4 = Polygon([\n",
    "\t[6,0],\n",
    "\t[12,9],\n",
    "\t[6,9],\n",
    "\t])\n",
    "\n",
    "\n",
    "\n",
    "shapes = [\n",
    "\t{\n",
    "\t\t'shape':S1,\n",
    "\t\t'shape_type':'Rectangle',\n",
    "\t\t'sign':'+',\n",
    "\t\t},\n",
    "\t{\n",
    "\t\t'shape':S2,\n",
    "\t\t'shape_type':'Circle',\n",
    "\t\t'sign':'-',\n",
    "\t\t},\n",
    "\t{\n",
    "\t\t'shape':S3,\n",
    "\t\t'shape_type':'Triangle',\n",
    "\t\t'sign':'-',\n",
    "\t\t},\n",
    "\t{\n",
    "\t\t'shape':S4,\n",
    "\t\t'shape_type':'Triangle',\n",
    "\t\t'sign':'+',\n",
    "\t\t},\n",
    "]\n",
    "full_shape(shapes,\"I_x\",'axis')\n",
    "F = full_shape(shapes,\"I_y\",'axis').get_shape()\n",
    "\n",
    "# F.intersection(S1)\n",
    "F.envelope.intersection(S1)\n"
   ]
  },
  {
   "cell_type": "code",
   "execution_count": null,
   "metadata": {},
   "outputs": [],
   "source": []
  }
 ],
 "metadata": {
  "interpreter": {
   "hash": "3b77e31a732e8a236d4ea991f710c4f2a39393a9b24895a5f62e7c411c3545eb"
  },
  "kernelspec": {
   "display_name": "Python 3.9.6 64-bit ('geography': conda)",
   "language": "python",
   "name": "python3"
  },
  "language_info": {
   "codemirror_mode": {
    "name": "ipython",
    "version": 3
   },
   "file_extension": ".py",
   "mimetype": "text/x-python",
   "name": "python",
   "nbconvert_exporter": "python",
   "pygments_lexer": "ipython3",
   "version": "3.10.1"
  },
  "orig_nbformat": 4
 },
 "nbformat": 4,
 "nbformat_minor": 2
}
