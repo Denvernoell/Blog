{
 "cells": [
  {
   "cell_type": "code",
   "execution_count": 1,
   "metadata": {},
   "outputs": [],
   "source": [
    "import pandas as pd\n",
    "import matplotlib.pyplot as plt\n",
    "import datetime as dt"
   ]
  },
  {
   "cell_type": "code",
   "execution_count": 25,
   "metadata": {},
   "outputs": [],
   "source": [
    "df = pd.read_excel('CE180B_Schedule.xlsx',sheet_name='S_013122')\n",
    "\n",
    "# Get start and end times\n",
    "# df[['start','end']] = df['Date'].str.split(' → ',expand=True)\n",
    "# df.start=pd.to_datetime(df.start)\n",
    "# df.end=pd.to_datetime(df.end)\n",
    "# df[['start','end']].to_clipboard(index=False)\n",
    "# df[['start','end']].to_clipboard(index=False)"
   ]
  },
  {
   "cell_type": "code",
   "execution_count": 57,
   "metadata": {},
   "outputs": [
    {
     "data": {
      "text/html": [
       "\n",
       "<div id=\"altair-viz-8d508a0a004f49cc8e67ad0560432e8b\"></div>\n",
       "<script type=\"text/javascript\">\n",
       "  (function(spec, embedOpt){\n",
       "    let outputDiv = document.currentScript.previousElementSibling;\n",
       "    if (outputDiv.id !== \"altair-viz-8d508a0a004f49cc8e67ad0560432e8b\") {\n",
       "      outputDiv = document.getElementById(\"altair-viz-8d508a0a004f49cc8e67ad0560432e8b\");\n",
       "    }\n",
       "    const paths = {\n",
       "      \"vega\": \"https://cdn.jsdelivr.net/npm//vega@5?noext\",\n",
       "      \"vega-lib\": \"https://cdn.jsdelivr.net/npm//vega-lib?noext\",\n",
       "      \"vega-lite\": \"https://cdn.jsdelivr.net/npm//vega-lite@4.8.1?noext\",\n",
       "      \"vega-embed\": \"https://cdn.jsdelivr.net/npm//vega-embed@6?noext\",\n",
       "    };\n",
       "\n",
       "    function loadScript(lib) {\n",
       "      return new Promise(function(resolve, reject) {\n",
       "        var s = document.createElement('script');\n",
       "        s.src = paths[lib];\n",
       "        s.async = true;\n",
       "        s.onload = () => resolve(paths[lib]);\n",
       "        s.onerror = () => reject(`Error loading script: ${paths[lib]}`);\n",
       "        document.getElementsByTagName(\"head\")[0].appendChild(s);\n",
       "      });\n",
       "    }\n",
       "\n",
       "    function showError(err) {\n",
       "      outputDiv.innerHTML = `<div class=\"error\" style=\"color:red;\">${err}</div>`;\n",
       "      throw err;\n",
       "    }\n",
       "\n",
       "    function displayChart(vegaEmbed) {\n",
       "      vegaEmbed(outputDiv, spec, embedOpt)\n",
       "        .catch(err => showError(`Javascript Error: ${err.message}<br>This usually means there's a typo in your chart specification. See the javascript console for the full traceback.`));\n",
       "    }\n",
       "\n",
       "    if(typeof define === \"function\" && define.amd) {\n",
       "      requirejs.config({paths});\n",
       "      require([\"vega-embed\"], displayChart, err => showError(`Error loading script: ${err.message}`));\n",
       "    } else if (typeof vegaEmbed === \"function\") {\n",
       "      displayChart(vegaEmbed);\n",
       "    } else {\n",
       "      loadScript(\"vega\")\n",
       "        .then(() => loadScript(\"vega-lite\"))\n",
       "        .then(() => loadScript(\"vega-embed\"))\n",
       "        .catch(showError)\n",
       "        .then(() => displayChart(vegaEmbed));\n",
       "    }\n",
       "  })({\"config\": {\"view\": {\"continuousWidth\": 400, \"continuousHeight\": 300}}, \"layer\": [{\"mark\": \"bar\", \"encoding\": {\"color\": {\"type\": \"nominal\", \"field\": \"Category\", \"legend\": {\"orient\": \"top\", \"title\": \"Category\"}}, \"order\": {\"type\": \"quantitative\", \"field\": \"Task\"}, \"tooltip\": [{\"type\": \"quantitative\", \"field\": \"Task\"}, {\"type\": \"nominal\", \"field\": \"Name\"}, {\"type\": \"nominal\", \"field\": \"Category\"}, {\"type\": \"temporal\", \"field\": \"start\"}, {\"type\": \"temporal\", \"field\": \"end\"}], \"x\": {\"type\": \"temporal\", \"axis\": {\"format\": \"%b:%d\"}, \"field\": \"start\", \"title\": \"Time Frame\"}, \"x2\": {\"field\": \"end\"}, \"y\": {\"type\": \"ordinal\", \"field\": \"Task\", \"sort\": \"x\", \"title\": \"Task ID\"}}, \"height\": 250, \"title\": \"Schedule\", \"width\": 600}, {\"mark\": {\"type\": \"text\", \"align\": \"left\", \"baseline\": \"middle\", \"dx\": 10}, \"encoding\": {\"color\": {\"value\": \"black\"}, \"order\": {\"type\": \"quantitative\", \"field\": \"Task\"}, \"text\": {\"type\": \"nominal\", \"field\": \"Name\"}, \"tooltip\": [{\"type\": \"quantitative\", \"field\": \"Task\"}, {\"type\": \"nominal\", \"field\": \"Name\"}, {\"type\": \"nominal\", \"field\": \"Category\"}, {\"type\": \"temporal\", \"field\": \"start\"}, {\"type\": \"temporal\", \"field\": \"end\"}], \"x\": {\"type\": \"temporal\", \"axis\": {\"format\": \"%b:%d\"}, \"field\": \"start\", \"title\": \"Time Frame\"}, \"x2\": {\"field\": \"end\"}, \"y\": {\"type\": \"ordinal\", \"field\": \"Task\", \"sort\": \"x\", \"title\": \"Task ID\"}}, \"height\": 250, \"title\": \"Schedule\", \"width\": 600}], \"data\": {\"name\": \"data-a88782c4fbcc293f4336e9d8b07351a8\"}, \"$schema\": \"https://vega.github.io/schema/vega-lite/v4.8.1.json\", \"datasets\": {\"data-a88782c4fbcc293f4336e9d8b07351a8\": [{\"Task\": 1.1, \"Category\": \"Research and Data Collection\", \"Name\": \"Determine current water supply and demands\", \"Date\": \"January 18, 2022 \\u2192 January 24, 2022\", \"start\": \"2022-01-18T00:00:00\", \"end\": \"2022-01-24T00:00:00\"}, {\"Task\": 1.2, \"Category\": \"Research and Data Collection\", \"Name\": \"Determine increased demands\", \"Date\": \"January 25, 2022 \\u2192 January 31, 2022\", \"start\": \"2022-01-25T00:00:00\", \"end\": \"2022-01-31T00:00:00\"}, {\"Task\": 1.3, \"Category\": \"Research and Data Collection\", \"Name\": \"Determine if current supply will meet increased demands\", \"Date\": \"January 29, 2022 \\u2192 February 2, 2022\", \"start\": \"2022-01-29T00:00:00\", \"end\": \"2022-02-02T00:00:00\"}, {\"Task\": 2.1, \"Category\": \"Design and Analysis\", \"Name\": \"Peak demand\", \"Date\": \"February 2, 2022 \\u2192 February 8, 2022\", \"start\": \"2022-02-02T00:00:00\", \"end\": \"2022-02-08T00:00:00\"}, {\"Task\": 2.2, \"Category\": \"Design and Analysis\", \"Name\": \"Fire flow\", \"Date\": \"February 7, 2022 \\u2192 February 12, 2022\", \"start\": \"2022-02-07T00:00:00\", \"end\": \"2022-02-12T00:00:00\"}, {\"Task\": 2.3, \"Category\": \"Design and Analysis\", \"Name\": \"Check if additional pumps and tanks are needed\", \"Date\": \"February 13, 2022 \\u2192 February 20, 2022\", \"start\": \"2022-02-13T00:00:00\", \"end\": \"2022-02-20T00:00:00\"}, {\"Task\": 2.4, \"Category\": \"Design and Analysis\", \"Name\": \"Pipe sizing\", \"Date\": \"February 19, 2022 \\u2192 February 24, 2022\", \"start\": \"2022-02-19T00:00:00\", \"end\": \"2022-02-24T00:00:00\"}, {\"Task\": 2.5, \"Category\": \"Design and Analysis\", \"Name\": \"System curve development, NPSH calculations for pump selection\", \"Date\": \"February 20, 2022 \\u2192 February 25, 2022\", \"start\": \"2022-02-20T00:00:00\", \"end\": \"2022-02-25T00:00:00\"}, {\"Task\": 2.6, \"Category\": \"Design and Analysis\", \"Name\": \"Tank sizing to meet fire and daily demands\", \"Date\": \"February 21, 2022 \\u2192 February 26, 2022\", \"start\": \"2022-02-21T00:00:00\", \"end\": \"2022-02-26T00:00:00\"}, {\"Task\": 3.1, \"Category\": \"Plans and Profiles\", \"Name\": \"Create graphic of proposed improvements\", \"Date\": \"February 22, 2022 \\u2192 February 27, 2022\", \"start\": \"2022-02-22T00:00:00\", \"end\": \"2022-02-27T00:00:00\"}, {\"Task\": 3.2, \"Category\": \"Plans and Profiles\", \"Name\": \"Create a schedule of improvements\", \"Date\": \"February 26, 2022 \\u2192 March 5, 2022\", \"start\": \"2022-02-26T00:00:00\", \"end\": \"2022-03-05T00:00:00\"}, {\"Task\": 3.3, \"Category\": \"Plans and Profiles\", \"Name\": \"EGL and HGL calculations and drawings\", \"Date\": \"February 28, 2022 \\u2192 March 5, 2022\", \"start\": \"2022-02-28T00:00:00\", \"end\": \"2022-03-05T00:00:00\"}, {\"Task\": 4.1, \"Category\": \"Cost Estimation\", \"Name\": \"Materials\", \"Date\": \"March 4, 2022 \\u2192 March 11, 2022\", \"start\": \"2022-03-04T00:00:00\", \"end\": \"2022-03-11T00:00:00\"}, {\"Task\": 4.2, \"Category\": \"Cost Estimation\", \"Name\": \"Construction\", \"Date\": \"March 11, 2022 \\u2192 March 19, 2022\", \"start\": \"2022-03-11T00:00:00\", \"end\": \"2022-03-19T00:00:00\"}, {\"Task\": 5.1, \"Category\": \"Documentation\", \"Name\": \"Engineers Report\", \"Date\": \"March 21, 2022 \\u2192 April 16, 2022\", \"start\": \"2022-03-21T00:00:00\", \"end\": \"2022-04-16T00:00:00\"}]}}, {\"mode\": \"vega-lite\"});\n",
       "</script>"
      ],
      "text/plain": [
       "alt.LayerChart(...)"
      ]
     },
     "execution_count": 57,
     "metadata": {},
     "output_type": "execute_result"
    }
   ],
   "source": [
    "import altair as alt\n",
    "\n",
    "def gantt_chart(df):\n",
    "\tchart = alt.Chart(df).mark_bar().encode(\n",
    "\t\tx = alt.X('start:T',title='Time Frame',axis=alt.Axis(format='%b:%d')),\n",
    "\t\tx2='end:T',\n",
    "\t\ty=alt.Y('Task:O',sort='x',title='Task ID'),\n",
    "\t\tcolor=alt.Color('Category',legend=alt.Legend(title='Category',orient='top')),\n",
    "\t\t# text='Name',\n",
    "\t\ttooltip=['Task','Name','Category','start','end'],\n",
    "\t\torder='Task',\n",
    "\t\t# column='Category',\n",
    "\n",
    "\t).properties(\n",
    "\t\ttitle=\"Schedule\",\n",
    "\t\twidth=600,\n",
    "\t\theight=250,\n",
    "\t)\n",
    "\treturn chart\n",
    "\n",
    "\n",
    "g = gantt_chart(df)\n",
    "g\n",
    "\n",
    "text = g.mark_text(\n",
    "\talign='left',\n",
    "\tbaseline='middle',\n",
    "\tdx=10,\n",
    "\t# color=alt.condition('Name' != ' ',alt.value('black'),alt.value('black'))\n",
    "\t\n",
    ").encode(text='Name',color=alt.value('black'))\n",
    "# .encode(text='Name')\n",
    "g + text\n",
    "# g.save('chart.png')"
   ]
  },
  {
   "cell_type": "code",
   "execution_count": null,
   "metadata": {},
   "outputs": [],
   "source": [
    "\n",
    "# gantt_chart(df).facet(row='Tags')\n",
    "\n",
    "# g1 = gantt_chart(df.loc[df['Tags'] == 'Sewer System Master Plan'])\n",
    "# g2 = gantt_chart(df.loc[df['Tags'] == 'Capacity Fee Study (Bartle Wells)'])\n",
    "\n",
    "# alt.vconcat(g1,g2)\n",
    "\n",
    "# text = chart.mark_text(\n",
    "# \talign='left',\n",
    "# \tbaseline='middle',\n",
    "# \tdx=70,\n",
    "\n",
    "# ).encode(text='Name')\n",
    "# chart + text\n",
    "\n",
    "\n",
    "# groupby=[\"Tags\"]"
   ]
  },
  {
   "cell_type": "code",
   "execution_count": null,
   "metadata": {},
   "outputs": [],
   "source": []
  }
 ],
 "metadata": {
  "interpreter": {
   "hash": "3067a4e9b670b2f5e73a74e9a2d9c6a2f3ee8374356055677ff1895112a0b210"
  },
  "kernelspec": {
   "display_name": "Python 3.8.3 64-bit ('base': conda)",
   "language": "python",
   "name": "python3"
  },
  "language_info": {
   "codemirror_mode": {
    "name": "ipython",
    "version": 3
   },
   "file_extension": ".py",
   "mimetype": "text/x-python",
   "name": "python",
   "nbconvert_exporter": "python",
   "pygments_lexer": "ipython3",
   "version": "3.8.3"
  },
  "orig_nbformat": 4
 },
 "nbformat": 4,
 "nbformat_minor": 2
}
