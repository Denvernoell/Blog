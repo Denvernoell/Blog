{
 "cells": [
  {
   "cell_type": "markdown",
   "metadata": {},
   "source": [
    "# Gannt Chart"
   ]
  },
  {
   "cell_type": "code",
   "execution_count": 1,
   "metadata": {},
   "outputs": [
    {
     "data": {
      "text/html": [
       "\n",
       "<div id=\"altair-viz-40175f6d47094f8aa527b7d451320367\"></div>\n",
       "<script type=\"text/javascript\">\n",
       "  (function(spec, embedOpt){\n",
       "    let outputDiv = document.currentScript.previousElementSibling;\n",
       "    if (outputDiv.id !== \"altair-viz-40175f6d47094f8aa527b7d451320367\") {\n",
       "      outputDiv = document.getElementById(\"altair-viz-40175f6d47094f8aa527b7d451320367\");\n",
       "    }\n",
       "    const paths = {\n",
       "      \"vega\": \"https://cdn.jsdelivr.net/npm//vega@5?noext\",\n",
       "      \"vega-lib\": \"https://cdn.jsdelivr.net/npm//vega-lib?noext\",\n",
       "      \"vega-lite\": \"https://cdn.jsdelivr.net/npm//vega-lite@4.8.1?noext\",\n",
       "      \"vega-embed\": \"https://cdn.jsdelivr.net/npm//vega-embed@6?noext\",\n",
       "    };\n",
       "\n",
       "    function loadScript(lib) {\n",
       "      return new Promise(function(resolve, reject) {\n",
       "        var s = document.createElement('script');\n",
       "        s.src = paths[lib];\n",
       "        s.async = true;\n",
       "        s.onload = () => resolve(paths[lib]);\n",
       "        s.onerror = () => reject(`Error loading script: ${paths[lib]}`);\n",
       "        document.getElementsByTagName(\"head\")[0].appendChild(s);\n",
       "      });\n",
       "    }\n",
       "\n",
       "    function showError(err) {\n",
       "      outputDiv.innerHTML = `<div class=\"error\" style=\"color:red;\">${err}</div>`;\n",
       "      throw err;\n",
       "    }\n",
       "\n",
       "    function displayChart(vegaEmbed) {\n",
       "      vegaEmbed(outputDiv, spec, embedOpt)\n",
       "        .catch(err => showError(`Javascript Error: ${err.message}<br>This usually means there's a typo in your chart specification. See the javascript console for the full traceback.`));\n",
       "    }\n",
       "\n",
       "    if(typeof define === \"function\" && define.amd) {\n",
       "      requirejs.config({paths});\n",
       "      require([\"vega-embed\"], displayChart, err => showError(`Error loading script: ${err.message}`));\n",
       "    } else if (typeof vegaEmbed === \"function\") {\n",
       "      displayChart(vegaEmbed);\n",
       "    } else {\n",
       "      loadScript(\"vega\")\n",
       "        .then(() => loadScript(\"vega-lite\"))\n",
       "        .then(() => loadScript(\"vega-embed\"))\n",
       "        .catch(showError)\n",
       "        .then(() => displayChart(vegaEmbed));\n",
       "    }\n",
       "  })({\"config\": {\"view\": {\"continuousWidth\": 400, \"continuousHeight\": 300}}, \"data\": {\"name\": \"data-bb0d5635c49ed76729148fcedfb8bdea\"}, \"mark\": \"bar\", \"encoding\": {\"detail\": {\"type\": \"quantitative\", \"field\": \"index\"}, \"x\": {\"type\": \"temporal\", \"field\": \"start\", \"timeUnit\": \"hoursminutes\"}, \"x2\": {\"field\": \"end\", \"timeUnit\": \"hoursminutes\"}, \"y\": {\"type\": \"ordinal\", \"field\": \"start\", \"timeUnit\": \"day\"}}, \"$schema\": \"https://vega.github.io/schema/vega-lite/v4.8.1.json\", \"datasets\": {\"data-bb0d5635c49ed76729148fcedfb8bdea\": [{\"index\": 0, \"start\": \"2018-09-03T08:00:00\", \"end\": \"2018-09-03T14:00:00\"}, {\"index\": 1, \"start\": \"2018-09-03T16:00:00\", \"end\": \"2018-09-03T18:00:00\"}, {\"index\": 2, \"start\": \"2018-09-04T10:00:00\", \"end\": \"2018-09-04T12:00:00\"}, {\"index\": 3, \"start\": \"2018-09-04T15:00:00\", \"end\": \"2018-09-04T17:00:00\"}, {\"index\": 4, \"start\": \"2018-09-05T09:00:00\", \"end\": \"2018-09-05T11:00:00\"}, {\"index\": 5, \"start\": \"2018-09-05T12:30:00\", \"end\": \"2018-09-05T17:30:00\"}]}}, {\"mode\": \"vega-lite\"});\n",
       "</script>"
      ],
      "text/plain": [
       "alt.Chart(...)"
      ]
     },
     "execution_count": 1,
     "metadata": {},
     "output_type": "execute_result"
    }
   ],
   "source": [
    "import altair as alt\n",
    "import pandas as pd\n",
    "\n",
    "df = pd.DataFrame({\n",
    "    'start': pd.to_datetime(['2018-09-03T08:00', '2018-09-03T16:00',\n",
    "                             '2018-09-04T10:00', '2018-09-04T15:00',\n",
    "                             '2018-09-05T09:00', '2018-09-05T12:30']),\n",
    "    'end': pd.to_datetime(['2018-09-03T14:00', '2018-09-03T18:00',\n",
    "                           '2018-09-04T12:00', '2018-09-04T17:00',\n",
    "                           '2018-09-05T11:00', '2018-09-05T17:30'])\n",
    "})\n",
    "\n",
    "alt.Chart(df.reset_index()).mark_bar().encode(\n",
    "    y='day(start):O',\n",
    "    x='hoursminutes(start)',\n",
    "    x2='hoursminutes(end)',\n",
    "    detail='index'\n",
    ")"
   ]
  }
 ],
 "metadata": {
  "interpreter": {
   "hash": "3067a4e9b670b2f5e73a74e9a2d9c6a2f3ee8374356055677ff1895112a0b210"
  },
  "kernelspec": {
   "display_name": "Python 3.8.3 64-bit ('base': conda)",
   "language": "python",
   "name": "python3"
  },
  "language_info": {
   "codemirror_mode": {
    "name": "ipython",
    "version": 3
   },
   "file_extension": ".py",
   "mimetype": "text/x-python",
   "name": "python",
   "nbconvert_exporter": "python",
   "pygments_lexer": "ipython3",
   "version": "3.8.3"
  },
  "orig_nbformat": 4
 },
 "nbformat": 4,
 "nbformat_minor": 2
}
